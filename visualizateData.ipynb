{
 "cells": [
  {
   "cell_type": "markdown",
   "id": "65045603-ebd7-46b7-84cf-d652f706424f",
   "metadata": {},
   "source": [
    "# Carga de Datos"
   ]
  },
  {
   "cell_type": "markdown",
   "id": "d1a40c6e-aff6-4ebd-aba9-766abf5ab7b5",
   "metadata": {},
   "source": [
    "#### Carga Desde Binarios"
   ]
  },
  {
   "cell_type": "code",
   "execution_count": null,
   "id": "4f192dc2-2dfc-4750-a0a3-5a16b3bba9f2",
   "metadata": {},
   "outputs": [],
   "source": [
    "historical: get `:Data/DataWarehouse/Tables/historical"
   ]
  },
  {
   "cell_type": "code",
   "execution_count": null,
   "id": "a584bb09-82d3-41e7-b31f-f92dc4d8dfb2",
   "metadata": {},
   "outputs": [],
   "source": [
    "resume_etf: get `:Data/DataWarehouse/Tables/resume_etf"
   ]
  },
  {
   "cell_type": "markdown",
   "id": "a8122ed0-5e92-4b7e-9f98-5383a30e542c",
   "metadata": {},
   "source": [
    "#### Carga Desde Tablas Splayed"
   ]
  },
  {
   "cell_type": "code",
   "execution_count": null,
   "id": "cfb65852-cae4-4b4c-b7f1-78b63ffc2f42",
   "metadata": {},
   "outputs": [],
   "source": [
    "load `:Data/DataWarehouse/Tables/historicalSplayed/sym;\n",
    "get `:Data/DataWarehouse/Tables/historicalSplayed/historical"
   ]
  },
  {
   "cell_type": "code",
   "execution_count": null,
   "id": "dad7e390-8ed0-4ba8-b397-139d65538147",
   "metadata": {},
   "outputs": [],
   "source": [
    "load `:Data/DataWarehouse/Tables/resume_etfSplayed/sym;\n",
    "get `:Data/DataWarehouse/Tables/resume_etfSplayed/resume_etf"
   ]
  },
  {
   "cell_type": "markdown",
   "id": "128fd8a7-a36a-4d0d-a9e1-70053a8a398a",
   "metadata": {},
   "source": [
    "# Cálculos"
   ]
  },
  {
   "cell_type": "code",
   "execution_count": null,
   "id": "81015379-de72-49af-8438-25fc83b21a1b",
   "metadata": {},
   "outputs": [],
   "source": []
  },
  {
   "cell_type": "markdown",
   "id": "0a61c94e-5256-4130-aeda-3a7c2f55b132",
   "metadata": {},
   "source": [
    "# Visualización de Datos\n",
    "\n",
    "Para este apartado usaremos las sinergias entre KDB+/Q y Python, que al usar Jupyter Notebook se nos facilita aún más esa integración.\n",
    "\n",
    "Usaremos el módulo y biblioteca por excelencia para esta representación gráfica en Python, [Matplotlib](https://matplotlib.org/stable/)."
   ]
  },
  {
   "cell_type": "code",
   "execution_count": null,
   "id": "c249bbfb-65dd-43c1-83bf-1212b1e8f5b8",
   "metadata": {},
   "outputs": [],
   "source": [
    "\\l p.q\n",
    "plt:.p.import[`matplotlib;`:pyplot]"
   ]
  },
  {
   "cell_type": "code",
   "execution_count": null,
   "id": "3bf250e2-8adb-4d74-be2c-316de9860794",
   "metadata": {},
   "outputs": [],
   "source": [
    "system \"pip install matplotlib\"\n",
    "p)import matplotlib.pyplot as plt\n",
    "p)import numpy as np\n",
    "p)t = np.arange(0.0, 2.0, 0.01)\n",
    "p)s = 1 + np.sin(2*np.pi*t)\n",
    "p)plt.plot(t, s)\n",
    "\n",
    "p)plt.xlabel('time (s)')\n",
    "\n",
    "p)plt.ylabel('voltage (mV)')\n",
    "p)plt.title('About as simple as it gets, folks')\n",
    "p)plt.grid(True)\n",
    "\n",
    "p)plt.show()"
   ]
  },
  {
   "cell_type": "code",
   "execution_count": null,
   "id": "1918d486-c2cf-4e6e-8a89-65a1cb26e09e",
   "metadata": {},
   "outputs": [],
   "source": [
    "ax_x:{[ETF;DATEFILT]\n",
    "    (select date from historical where ticker=`$ETF, date > DATEFILT)`date\n",
    " }\n",
    "ax_y:{[ETF;DATEFILT]\n",
    "    (select nav_value from historical where ticker=`$ETF, date > DATEFILT)`nav_value    \n",
    " }\n",
    "\n",
    "plt[`:plot][ax_x[\"EWJ\";2024.01.01];ax_y[\"EWJ\";2024.01.01];\"y\"];\n",
    "plt[`:title][\"TEST DE MATPLOTLIB - COTIZACIÓN\"];\n",
    "plt[`:xlabel][\"DATE\"];\n",
    "plt[`:ylabel][\"NAV VALUE\"];\n",
    "plt[`:show][];"
   ]
  },
  {
   "cell_type": "code",
   "execution_count": null,
   "id": "de0a212b-707b-48b4-8aa5-68f617adab51",
   "metadata": {},
   "outputs": [],
   "source": [
    "x:(select date from historical where ticker=`EWJ,  date > 2024.01.01)`date;\n",
    "y:(select nav_value from historical where ticker=`EWJ,  date > 2024.01.01)`nav_value;\n",
    "plt[`:plot][x;y;\"y\"];\n",
    "plt[`:title][\"TEST DE MATPLOTLIB - COTIZACIÓN\"];\n",
    "plt[`:xlabel][\"DATE\"];\n",
    "plt[`:ylabel][\"NAV VALUE\"];\n",
    "plt[`:show][];"
   ]
  }
 ],
 "metadata": {
  "kernelspec": {
   "display_name": "Q (kdb+)",
   "language": "q",
   "name": "kdb_kernel"
  },
  "language_info": {
   "file_extension": ".q",
   "mimetype": "text/x-q",
   "name": "q",
   "version": "4.1.0"
  }
 },
 "nbformat": 4,
 "nbformat_minor": 5
}
