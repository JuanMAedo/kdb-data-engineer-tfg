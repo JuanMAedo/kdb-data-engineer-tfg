{
 "cells": [
  {
   "cell_type": "markdown",
   "id": "65045603-ebd7-46b7-84cf-d652f706424f",
   "metadata": {},
   "source": [
    "# Carga de Datos\n",
    "\n",
    "Hacemos distincción para posible estudio de rendimientos en la forma de guardado en disco y su lectura."
   ]
  },
  {
   "cell_type": "markdown",
   "id": "d1a40c6e-aff6-4ebd-aba9-766abf5ab7b5",
   "metadata": {},
   "source": [
    "#### Carga Desde Binarios"
   ]
  },
  {
   "cell_type": "code",
   "execution_count": null,
   "id": "4f192dc2-2dfc-4750-a0a3-5a16b3bba9f2",
   "metadata": {},
   "outputs": [],
   "source": [
    "\\ts historical: get `:Data/DataWarehouse/Tables/historical"
   ]
  },
  {
   "cell_type": "code",
   "execution_count": null,
   "id": "a584bb09-82d3-41e7-b31f-f92dc4d8dfb2",
   "metadata": {},
   "outputs": [],
   "source": [
    "\\ts resume_etf: get `:Data/DataWarehouse/Tables/resume_etf"
   ]
  },
  {
   "cell_type": "code",
   "execution_count": null,
   "id": "f4e7e53d-5c04-4ea3-86b4-5f7a22ffd14f",
   "metadata": {},
   "outputs": [],
   "source": [
    "meta historical"
   ]
  },
  {
   "cell_type": "markdown",
   "id": "a8122ed0-5e92-4b7e-9f98-5383a30e542c",
   "metadata": {},
   "source": [
    "#### Carga Desde Tablas Splayed"
   ]
  },
  {
   "cell_type": "code",
   "execution_count": null,
   "id": "cfb65852-cae4-4b4c-b7f1-78b63ffc2f42",
   "metadata": {},
   "outputs": [],
   "source": [
    "\\ts load `:Data/DataWarehouse/Tables/historicalSplayed/sym;\n",
    "\\ts historicalS: get `:Data/DataWarehouse/Tables/historicalSplayed/historical"
   ]
  },
  {
   "cell_type": "code",
   "execution_count": null,
   "id": "dad7e390-8ed0-4ba8-b397-139d65538147",
   "metadata": {},
   "outputs": [],
   "source": [
    "\\ts load `:Data/DataWarehouse/Tables/resume_etfSplayed/sym;\n",
    "\\ts resume_etfS: get `:Data/DataWarehouse/Tables/resume_etfSplayed/resume_etf"
   ]
  },
  {
   "cell_type": "markdown",
   "id": "128fd8a7-a36a-4d0d-a9e1-70053a8a398a",
   "metadata": {},
   "source": [
    "# Cálculos"
   ]
  },
  {
   "cell_type": "code",
   "execution_count": null,
   "id": "f986be1b-3508-4a75-af42-46e8b6ff321d",
   "metadata": {},
   "outputs": [],
   "source": [
    "meta historical"
   ]
  },
  {
   "cell_type": "code",
   "execution_count": null,
   "id": "bf5b402f-e99f-42ae-b74b-321f0733c233",
   "metadata": {},
   "outputs": [],
   "source": [
    "select from historical where m200sma <> 0N, ticker=`EWJ, date>2020.01.01"
   ]
  },
  {
   "cell_type": "code",
   "execution_count": null,
   "id": "81015379-de72-49af-8438-25fc83b21a1b",
   "metadata": {},
   "outputs": [],
   "source": [
    "select days:count i by year: `year$date, ticker from historical"
   ]
  },
  {
   "cell_type": "markdown",
   "id": "0a61c94e-5256-4130-aeda-3a7c2f55b132",
   "metadata": {},
   "source": [
    "# Visualización de Datos\n",
    "\n",
    "Para este apartado usaremos las sinergias entre KDB+/Q y Python, que al usar Jupyter Notebook se nos facilita aún más esa integración.\n",
    "\n",
    "Usaremos el módulo y biblioteca por excelencia para esta representación gráfica en Python, [Matplotlib](https://matplotlib.org/stable/)."
   ]
  },
  {
   "cell_type": "markdown",
   "id": "6e558f88-10b0-4d63-bcf2-f2a78d5f76f7",
   "metadata": {},
   "source": [
    "En primer lugar cargaremos en las variables **plt** y **mdates** los módulos de Python más usados para la representación gráfica y manipulación de fechas."
   ]
  },
  {
   "cell_type": "code",
   "execution_count": null,
   "id": "c249bbfb-65dd-43c1-83bf-1212b1e8f5b8",
   "metadata": {},
   "outputs": [],
   "source": [
    "\\l p.q\n",
    "plt:.p.import[`matplotlib;`:pyplot]\n",
    "mdates:.p.import[`matplotlib;`:dates]"
   ]
  },
  {
   "cell_type": "markdown",
   "id": "ef3c571e-4fe8-4fb5-996b-4866bf77ca42",
   "metadata": {},
   "source": [
    "Generamos las primeras funciones que repetiremos a la hora de generar gráficas, repitiendo código qSQL."
   ]
  },
  {
   "cell_type": "code",
   "execution_count": 122,
   "id": "d6510e44-b68f-44cf-9656-59242465cab0",
   "metadata": {},
   "outputs": [],
   "source": [
    "// HISTORICAL VALUE QUERIES\n",
    "\n",
    "ax_x:{[ETF;DATEFILT]\n",
    "    (select date from historical where ticker=`$ETF, date > DATEFILT)`date\n",
    " }\n",
    "ax_y:{[ETF;DATEFILT]\n",
    "    (select nav_value from historical where ticker=`$ETF, date > DATEFILT)`nav_value    \n",
    " }\n",
    "\n",
    "// DAILY SMA QUERIES\n",
    "\n",
    "aSMA_x:{[ETF;DATEFILT]\n",
    "    (select date from historical where ticker=`$ETF, date > DATEFILT)`date\n",
    " }\n",
    "aSMA_y:{[ETF;DATEFILT]\n",
    "    (select d200sma from historical where ticker=`$ETF, date > DATEFILT)`d200sma    \n",
    " }\n",
    "\n",
    "// MONTHLY SMA QUERIES\n",
    "\n",
    "aMSMA_x:{[ETF;DATEFILT]\n",
    "    (select date from historical where ticker=`$ETF, date > DATEFILT, m200sma<>0N)`date\n",
    " }\n",
    "aMSMA_y:{[ETF;DATEFILT]\n",
    "    (select m200sma from historical where ticker=`$ETF, date > DATEFILT, m200sma<>0N)`m200sma   \n",
    " }\n",
    "\n",
    "// INFLOWS - OUTFLOWS QUERIES\n",
    "\n",
    "in_out_x:{[ETF;DATEFILT]\n",
    "    (select date from historical where ticker=`$ETF, date > DATEFILT, in_out_flow_val<>0N)`date    \n",
    " }\n",
    "in_out_y:{[ETF;DATEFILT]\n",
    "    (select in_out_flow_val from historical where ticker=`$ETF, date > DATEFILT, in_out_flow_val<>0N)`in_out_flow_val    \n",
    " }"
   ]
  },
  {
   "cell_type": "code",
   "execution_count": null,
   "id": "75c3a7a1-66de-44e4-b6a5-12e7d648d48f",
   "metadata": {},
   "outputs": [],
   "source": [
    "plt[`:figure][(`figsize);(15;10)]; \n",
    "plt[`:plot][ax_x[\"DVY\";2020.01.01];ax_y[\"DVY\";2020.01.01];\"y-\"];\n",
    "plt[`:plot][aSMA_x[\"DVY\";2020.01.01];aSMA_y[\"DVY\";2020.01.01]; \"r\"];\n",
    "plt[`:plot][aMSMA_x[\"DVY\";2020.01.01];aMSMA_y[\"DVY\";2020.01.01]; \"g\"];\n",
    "plt[`:title][\"HISTORICAL - DAILY SMA\"];\n",
    "plt[`:xlabel][\"DATE\"];\n",
    "plt[`:ylabel][\"NAV VALUE\"];\n",
    "//plt[`:legend][];\n",
    "plt[`:show][];"
   ]
  },
  {
   "cell_type": "code",
   "execution_count": null,
   "id": "0cf9b107-1848-48db-bbda-69b76939df04",
   "metadata": {},
   "outputs": [],
   "source": [
    "plt[`:figure][(`figsize);(14;10)];\n",
    "plt[`:plot][in_out_x[\"DVY\";2020.01.01];in_out_y[\"DVY\";2020.01.01]; \"b-o\"];\n",
    "plt[`:axhline][(0)];\n",
    "plt[`:title][\"A\"];\n",
    "plt[`:xlabel][\"DATE\"];\n",
    "plt[`:ylabel][\"VALUE UP/DOWN\"];\n",
    "plt[`:show][];"
   ]
  },
  {
   "cell_type": "code",
   "execution_count": null,
   "id": "3b44851f-22ce-4ee4-9ea9-2155048f59c7",
   "metadata": {},
   "outputs": [],
   "source": [
    "// Obtener el eje actual\n",
    "ax: plt[`:gca][];\n",
    "\n",
    "// Corregir el acceso a los métodos de los ejes\n",
    "ax[`:xaxis][`:set_major_formatter][mdates[`:DateFormatter][(\"%Y/%m/%d\")]];\n",
    "ax[`:xaxis][`:set_major_locator][(mdates[`:DayLocator][4])];\n",
    "\n",
    "// Formatear las fechas automáticamente\n",
    "plt[`:gcf][][`:autofmt_xdate][];"
   ]
  },
  {
   "cell_type": "markdown",
   "id": "89b77602-c83d-4dab-bd57-9231164572fa",
   "metadata": {},
   "source": [
    "# Modelo de Estrategia de Inversión en ETFs\n",
    "\n",
    "En este apartado realizaremos el soporte para la elección de ETF.\n",
    "\n",
    "En el anterior Notebook hemos realizado todos los cálculos necesarios para ahora poder selecionar y evaluar los ETF para nuestra cartera.\n",
    "\n",
    "La técnica de selección, ponderación, etf es motivado por mi TFG de Administración de Empresas y los motivos de elección de cada apartado está explicado en él.\n"
   ]
  },
  {
   "cell_type": "markdown",
   "id": "c18cb9f3-5361-48a4-b757-a7cb06a95a7d",
   "metadata": {},
   "source": [
    "## Benchmark por Categoría\n",
    "\n",
    "Se realizará el mismo benchmark para todos los ETF de la misma manera. Para poder conseguir el *Riesgo Diversificado* el mejor resultado por categoría:\n",
    "> - **Mercado** en el que opera.\n",
    "> - **Región** en la que opera.\n",
    "> - **Clase de Equity** del que está compuesto el ETF."
   ]
  },
  {
   "cell_type": "markdown",
   "id": "e712d033-6c18-4631-a0f1-b8c5aa961636",
   "metadata": {},
   "source": [
    "## Benchmark para Modelo de Inversión"
   ]
  },
  {
   "cell_type": "markdown",
   "id": "08ef7e77-3a7c-4ad1-9f60-8be506715bf2",
   "metadata": {},
   "source": [
    "Se dará una valoración a cada elemento de:\n",
    "- Tendencia del Mercado respecto a su SMA: **?%**\n",
    "- Tendencia de Valoración respecto a su mSMA: **?%**\n",
    "- Volatilidad a 1 año: **?%**\n",
    "- Volatilidad a 6 meses: **?%**\n",
    "- Volatilidad a 3 meses: **?%**\n",
    "- Correlación Inflow/Outflow con Nav_Value: **?%**\n",
    "- Distancia Temporal de su máximo + % valor actual respecto a él: **?%**\n",
    "- Distancia Temporal de su mínimo + % valor actual respecto a él: **?%**\n",
    "- Rendimiento los 5 años: **?%**\n",
    "- Rendimiento los 1 año: **?%**\n",
    "- Rendimiento los 6 meses: **?%**\n",
    "- Drawdown a 5 años: **?%**\n",
    "- Drawdown a 1 año: **?%**\n",
    "- Drawdown a 6 mesess: **?%**"
   ]
  },
  {
   "cell_type": "markdown",
   "id": "066f7e8f-34f8-46b2-8615-3ef0d93966c0",
   "metadata": {},
   "source": [
    "# Extras + info futuro\n"
   ]
  },
  {
   "cell_type": "code",
   "execution_count": null,
   "id": "6a96cb2f-e36d-4946-952a-67bf63fd423b",
   "metadata": {},
   "outputs": [],
   "source": [
    "count select ticker from resume_etf where market = `$\"Developed\"\n",
    "select from historical where ticker = `EWA, m200sma <> 0N\n",
    "count select ticker from resume_etf where market = `Emerging\n",
    "\n",
    "//Filtrado  mezclando las dos tablas\n",
    "select from historical where ticker in exec ticker from resume_etf where market = `$\"Emerging\"\n",
    "//Lo mismo\n",
    "show a: select ticker from resume_etf where market = `$\"Developed\"\n",
    "select from historical where ticker in a[`ticker]\n",
    "\n",
    "select distinct equity_class from resume_etf\n",
    "select distinct region from resume_etf\n",
    "\n",
    "//maximo aumento\n",
    "select from historical where daily_retns=(max; daily_retns) fby ticker"
   ]
  }
 ],
 "metadata": {
  "kernelspec": {
   "display_name": "Q (kdb+)",
   "language": "q",
   "name": "kdb_kernel"
  },
  "language_info": {
   "file_extension": ".q",
   "mimetype": "text/x-q",
   "name": "q",
   "version": "4.1.0"
  }
 },
 "nbformat": 4,
 "nbformat_minor": 5
}
