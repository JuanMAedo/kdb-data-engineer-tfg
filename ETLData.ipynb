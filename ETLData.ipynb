{
 "cells": [
  {
   "cell_type": "markdown",
   "id": "42bbe3ef-eb08-48d9-8539-f6d58d038897",
   "metadata": {},
   "source": [
    "Estudiaremos en el presente Notebook las cotizaciones y las distintas carácterísticas que componen los ETFs de BlackRock, conocidos como iShares.\n",
    "Todos ellos serán los cotizados en **USD-$**, para poder realizar comparativas y agrupaciones de forma más sencilla.\n",
    "\n",
    "Debido a esta condición, añadida a un mínimo de 20 años desde su salida al mercado para tener un número considerable de registros, nos encontramos ante **87 ETFs** distintos para analizar.\n"
   ]
  },
  {
   "cell_type": "markdown",
   "id": "76882986-104c-4609-92bc-e95ec59fb832",
   "metadata": {},
   "source": [
    "# Data Project"
   ]
  },
  {
   "cell_type": "markdown",
   "id": "07185495-7f63-49e6-a997-f7cca11d5468",
   "metadata": {},
   "source": [
    "## Dataset\n",
    "\n",
    "Nos quedará un Dataset compuesto por el histórico de la capitalización de cada ETF de iShare, que añadiremos a nuestro entorno de desarrollo en la carpeta de *pre-processed*, donde incluiremos todos los csv.\n",
    "\n",
    "Estos csv han sido generados despúes de un primer paso de darle calidad a nuestros datos a partir de un script de Python que transforma los datos de la carpeta *raw* a los csv de *pre-processed*, preparándolos para su uso en KDB+.\n",
    "\n",
    "En nuestro mismo directorio, recibiremos otro csv, donde estará la información a cargar para la tabla Resume, también generado por Python.\n",
    "\n",
    "\n",
    "  > Tabla **Historical**: Registra el histórico de cotización de los ETFs. \n",
    "  >  - ***date***: La fecha del registro del histórico.    \n",
    "  > - ***nav_value***: El valor de la participación en esa fecha.    \n",
    "  > - ***shares***: El nº de participaciones en el mercado del ETF en esa fecha.  \n",
    "  > - ***ticker***: El ticker identificativo del ETF.\n",
    "\n",
    "  > Tabla **Resume**: Se trata de la información general del los ETFs de iShare. \n",
    "  >  - ***ticker***: El identificativo de cada ETF de iShares.    \n",
    "  > - ***inception_date***: La fecha a la que sale al mercado el ETF.    \n",
    "  > - ***net_assets***: El total de capitalización del ETF en el momento de sacar los datos.  \n",
    "  > - ***equity_class***: Muestra el tipo de activo que compone el ETF. *Large/Mid Cap - All Cap - Large Cap - Mid Cap - Small Cap*\n",
    "  > - ***region***: Muestra la región de dónde son las empresas. *Asia Pacific - North America  - Europe - Latin America - Global - Middle East and Africa*\n",
    "  > - ***market***: Muestra el tipo de mercado que tiene las empresas. *Developed - Emerging*\n",
    "\n",
    "1. Crearemos en un primer momento las tablas vacías.\n",
    "2. Importaremos desde los csv la información y la insertaremos en nuestras tablas."
   ]
  },
  {
   "cell_type": "code",
   "execution_count": null,
   "id": "5b824198-aad5-4cf2-b17d-c619b8af17ef",
   "metadata": {},
   "outputs": [],
   "source": [
    " historical:([]date:`date$();nav_value:`float$();shares:`long$();ticker:`$())\n",
    " resume_etf:([ticker:`$()]inception_date:`date$();net_assets:`float$();equity_class:`$();region:`$();market:`$())\n",
    " @[`historical;`ticker;`g#];\n",
    " meta historical"
   ]
  },
  {
   "cell_type": "markdown",
   "id": "1d6adfc4-6670-4c65-843a-15dfcea87ec9",
   "metadata": {},
   "source": [
    "## Data Processing - Filter and Quality\n",
    "Nuestros datos están disponibles en la carpeta *Data*, pero se presentan en un formato de Excel y con información poco valiosa y muy dispersa para el estudio. Por tanto consideramos que se encuentran en un proceso raw en nuestro proyecto de Ingeniería de Datos.\n",
    "\n",
    "Por ello contamos con 2 scripts a realizar, donde filtraremos, renombraremos y daremos calidad a los datos, para posteriormente poder estudiarlos de mejor manera.\n",
    "\n",
    "Pero antes de ello realizaremos la instalación de las librerías correspondientes, actualizadas en el *requirements.txt*:"
   ]
  },
  {
   "cell_type": "code",
   "execution_count": null,
   "id": "376bf4e8-f75a-46a5-a4ef-41cbb156eba7",
   "metadata": {},
   "outputs": [],
   "source": [
    "system \"pip install -r requirements.txt\""
   ]
  },
  {
   "cell_type": "code",
   "execution_count": null,
   "id": "e8df53a2-3268-4725-be93-06bab1dcf893",
   "metadata": {},
   "outputs": [],
   "source": [
    "system \"python3 Data/script_etf_a_csv.py Data/RawExcels/ Data/iShares-UnitedStates2.xlsx\"\n",
    "system \"python3 Data/script_resume_etf.py Data/iShares-UnitedStates2.xlsx\""
   ]
  },
  {
   "cell_type": "markdown",
   "id": "66e659e5-0d26-4f82-903e-292e77a318f5",
   "metadata": {},
   "source": [
    "## Data Ingest"
   ]
  },
  {
   "cell_type": "markdown",
   "id": "d1644035-024a-4f9a-a426-e3be6b9c9323",
   "metadata": {},
   "source": [
    "Procedemos a importar los archivos de los ETFs que se encuentran en la ruta : *Data/PreProcessed/etf/* y los cargaremos  para poder operar con ellos."
   ]
  },
  {
   "cell_type": "code",
   "execution_count": 2,
   "id": "8a451282-52ca-4adf-b63b-7824c59df73b",
   "metadata": {},
   "outputs": [],
   "source": [
    "csv_files: system \"ls Data/PreProcessed/etf/*.csv\";"
   ]
  },
  {
   "cell_type": "markdown",
   "id": "b8dc4646-a77c-4e60-9f30-a8ef8a26c8d1",
   "metadata": {},
   "source": [
    "Insertamos en nuestra tabla **'historical'**  usando un iterador y las características de programación funcional y su compilación de derecha a izquierda que nos aporta el lenguaje.\n",
    "\n",
    "Importamos los datos del csv, actualizamos la columna ticker con el nombre que queremos y realizamos un upsert sobre la tabla."
   ]
  },
  {
   "cell_type": "code",
   "execution_count": 3,
   "id": "a56fd79c-32bc-454f-8db4-984da6d623cf",
   "metadata": {},
   "outputs": [],
   "source": [
    "//Ingesta de HISTORICAL\n",
    "{ ticker_name: ssr[ssr[; \"Data/PreProcessed/etf/\"; \"\"] x; \".csv\"; \"\"]; \n",
    "    `historical upsert update ticker:`$ticker_name from (\"DFJ\"; enlist csv) 0: `$x;\n",
    " } each csv_files;\n",
    "//Ingesta de RESUME\n",
    "`resume_etf insert (\"SDFSSS\"; enlist csv) 0: `$\"Data/PreProcessed/resume.csv\";"
   ]
  },
  {
   "cell_type": "code",
   "execution_count": null,
   "id": "a2b96e57-e813-4772-a498-8e51ce657426",
   "metadata": {},
   "outputs": [],
   "source": [
    "show historical"
   ]
  },
  {
   "cell_type": "code",
   "execution_count": null,
   "id": "09acf3ae-81a2-411e-a785-79bf331e5452",
   "metadata": {},
   "outputs": [],
   "source": [
    "select count i from historical where ticker=`EWJ"
   ]
  },
  {
   "cell_type": "code",
   "execution_count": null,
   "id": "5805bab8-8807-4055-bbf2-a102b484c9a8",
   "metadata": {},
   "outputs": [],
   "source": [
    "count historical"
   ]
  },
  {
   "cell_type": "markdown",
   "id": "2d7002e0-dfa0-4262-8392-d9b31d88bab5",
   "metadata": {},
   "source": [
    "# New Data and Metadata\n",
    "\n",
    "Procederemos a crear columnas en nuestras tablas con intención de recopilar información sobre el histórico y poder analizar posteriormente con mayor información y datos."
   ]
  },
  {
   "cell_type": "markdown",
   "id": "c25d08a5-5085-4ea3-a5ee-12b9ff4a0f76",
   "metadata": {},
   "source": [
    "## Daily Returns:\n",
    " Añadiremos la diferencia de precios diaria en la tabla de *Historical* para poder calcular la volatilidad total.\n",
    "\n",
    " Por ello, lo primero que haremos será ordenar por ticker y fecha paraque se calcule de manera correcta los daily returns."
   ]
  },
  {
   "cell_type": "code",
   "execution_count": 4,
   "id": "aca5f17e-2860-4db5-9325-c5b9281b5321",
   "metadata": {},
   "outputs": [
    {
     "name": "stdout",
     "output_type": "stream",
     "text": [
      "date       nav_value shares  ticker daily_retns  \n",
      "-------------------------------------------------\n",
      "2003.11.03 50.51092  150000  DVY                 \n",
      "2003.11.04 50.35961  150000  DVY    -0.00299557  \n",
      "2003.11.05 50.23249  150000  DVY    -0.002524344 \n",
      "2003.11.06 50.47377  150000  DVY    0.004803226  \n",
      "2003.11.07 50.58691  150000  DVY    0.002241719  \n",
      "2003.11.10 50.18715  350000  DVY    -0.007902518 \n",
      "2003.11.11 50.08851  350000  DVY    -0.001965463 \n",
      "2003.11.12 50.61071  550000  DVY    0.01042557   \n",
      "2003.11.13 50.74544  550000  DVY    0.002662164  \n",
      "2003.11.14 50.54792  900000  DVY    -0.003892507 \n",
      "2003.11.17 50.3196   900000  DVY    -0.004516823 \n",
      "2003.11.18 49.84921  900000  DVY    -0.009348047 \n",
      "2003.11.19 50.0617   1200000 DVY    0.004262715  \n",
      "2003.11.20 49.78395  1200000 DVY    -0.005548253 \n",
      "2003.11.21 49.89686  1500000 DVY    0.00226796   \n",
      "2003.11.24 50.63929  1500000 DVY    0.01487943   \n",
      "2003.11.25 51.0226   1800000 DVY    0.00756932   \n",
      "2003.11.26 51.21912  1800000 DVY    0.003851685  \n",
      "2003.11.28 51.19686  2300000 DVY    -0.0004347009\n",
      "2003.12.01 51.89343  2300000 DVY    0.01360578   \n",
      "..\n"
     ]
    }
   ],
   "source": [
    "historical: `ticker`date xasc historical;\n",
    "historical: update daily_retns: (nav_value-prev nav_value)%prev nav_value by ticker from historical\n",
    "show historical "
   ]
  },
  {
   "cell_type": "markdown",
   "id": "edbf75b4-aa4f-4e5c-938b-0b1ce9acb9bc",
   "metadata": {},
   "source": [
    "## Volatility\n",
    "Añadimos la volatilidad total por ticker a la tabla *Resume*.\n",
    "\n",
    "Tomaremos la fórmula de la Volatilidad cómo: \n",
    "> Volatility = σ<sub>period</sub> * √T<sub>period</sub>\n",
    "\n",
    "En mercados financieros los años se tratan de 252 días de mercados abiertos, por tanto:\n",
    "\n",
    " - Volatilidad Anual: 252 días\n",
    " - Volatilidad 6 meses: 126 días\n",
    " - Volatilidad 3 meses: 63 días"
   ]
  },
  {
   "cell_type": "markdown",
   "id": "eea49b38-3964-45b0-a871-452216e4776a",
   "metadata": {},
   "source": [
    "### Historical Volatility - 1 Year"
   ]
  },
  {
   "cell_type": "code",
   "execution_count": 5,
   "id": "c9b03a17-169f-4548-8548-2f316612f98d",
   "metadata": {},
   "outputs": [],
   "source": [
    "year_vol: select vol1y: dev daily_retns * sqrt[252] by ticker from historical where date > max date - 251"
   ]
  },
  {
   "cell_type": "markdown",
   "id": "ddd5c5d5-9bad-4000-a693-05bf7c5617d5",
   "metadata": {},
   "source": [
    "### Historical Volatility - 6 Months"
   ]
  },
  {
   "cell_type": "code",
   "execution_count": 6,
   "id": "2e953602-1080-4acb-8562-cdc9efdf7ed8",
   "metadata": {},
   "outputs": [],
   "source": [
    "sixm_vol: select  vol6m: var daily_retns * sqrt 126 by ticker from historical where date > max date - 125"
   ]
  },
  {
   "cell_type": "markdown",
   "id": "f28e0425-abfd-4cbc-8db3-2a3fcbc5acc8",
   "metadata": {},
   "source": [
    "### Historical Volatility - 3 Months"
   ]
  },
  {
   "cell_type": "code",
   "execution_count": 7,
   "id": "c0c43c9a-e2ea-40dd-8347-15580d0408b2",
   "metadata": {},
   "outputs": [],
   "source": [
    "threem_vol: select vol3m: var daily_retns * sqrt 63 by ticker from historical where date > max date - 62"
   ]
  },
  {
   "cell_type": "markdown",
   "id": "f4d058d9-1440-4d8f-aedb-d57a9c24cb18",
   "metadata": {},
   "source": [
    "Finalmente añadimos a la table *resume_etf* por cada etf de las 3 volatilidades calculadas."
   ]
  },
  {
   "cell_type": "code",
   "execution_count": 8,
   "id": "cb6b7465-a81a-4772-8abc-9e85fc107ab7",
   "metadata": {},
   "outputs": [
    {
     "data": {
      "text/plain": [
       "c             | t f a\n",
       "--------------| -----\n",
       "ticker        | s    \n",
       "inception_date| d    \n",
       "net_assets    | f    \n",
       "equity_class  | s    \n",
       "region        | s    \n",
       "market        | s    \n",
       "vol1y         | f    \n",
       "vol6m         | f    \n",
       "vol3m         | f    \n"
      ]
     },
     "execution_count": 8,
     "metadata": {},
     "output_type": "execute_result"
    }
   ],
   "source": [
    "meta resume_etf: ((resume_etf lj `ticker xkey year_vol) lj `ticker xkey sixm_vol) lj `ticker xkey threem_vol"
   ]
  },
  {
   "cell_type": "markdown",
   "id": "1c11ed08-ff9b-47be-9e65-96c5ce6c9b0a",
   "metadata": {},
   "source": [
    "## Moving Averages\n",
    "\n",
    "Calcularemos las medias móviles de ciertos periodos:\n",
    " - 200 días\n",
    " - 200 meses\n"
   ]
  },
  {
   "cell_type": "markdown",
   "id": "6115da5e-85dd-42ea-8c2a-68807c465c57",
   "metadata": {},
   "source": [
    "### SMA 200 Days"
   ]
  },
  {
   "cell_type": "code",
   "execution_count": 9,
   "id": "e0c109ab-d02c-496d-b9d2-9c3976d86b51",
   "metadata": {},
   "outputs": [],
   "source": [
    "historical: `ticker`date xdesc historical;\n",
    "historical: update d200sma:mavg[200;nav_value] by ticker from historical"
   ]
  },
  {
   "cell_type": "markdown",
   "id": "3fee27f0-9d93-4aca-8b5d-f050f9827395",
   "metadata": {},
   "source": [
    "### SMA 200 Months\n",
    "\n",
    "Usamos la ordenación descendente + first en el fby para coger el primer dato del mes (el último al estar ordenado descendentemente)."
   ]
  },
  {
   "cell_type": "code",
   "execution_count": 10,
   "id": "9c778cd8-348c-459f-8a28-5309f2633923",
   "metadata": {
    "scrolled": true
   },
   "outputs": [
    {
     "name": "stdout",
     "output_type": "stream",
     "text": [
      "date       nav_value shares   ticker daily_retns  d200sma  m200sma \n",
      "-------------------------------------------------------------------\n",
      "2024.08.30 231.1647  66150000 SOXX   0.02627348   231.1647 231.1647\n",
      "2024.08.29 225.2466  66000000 SOXX   -0.00292115  228.2057         \n",
      "2024.08.28 225.9066  66550000 SOXX   -0.01796347  227.4393         \n",
      "2024.08.27 230.0389  66350000 SOXX   0.01140704   228.0892         \n",
      "2024.08.26 227.4444  66300000 SOXX   -0.02581257  227.9602         \n",
      "2024.08.23 233.4709  65650000 SOXX   0.02704338   228.8787         \n",
      "2024.08.22 227.3233  65250000 SOXX   -0.03448592  228.6565         \n",
      "2024.08.21 235.4427  65200000 SOXX   0.01487777   229.5047         \n",
      "2024.08.20 231.9912  64900000 SOXX   -0.01361237  229.781          \n",
      "2024.08.19 235.1928  65100000 SOXX   0.01742708   230.3222         \n",
      "2024.08.16 231.1642  64400000 SOXX   -0.00282512  230.3987         \n",
      "2024.08.15 231.8192  64100000 SOXX   0.04858268   230.5171         \n",
      "2024.08.14 221.0786  63200000 SOXX   -0.002985179 229.7911         \n",
      "2024.08.13 221.7405  61650000 SOXX   0.04097508   229.216          \n",
      "2024.08.12 213.0123  62400000 SOXX   0.005707029  228.1358         \n",
      "2024.08.09 211.8035  62900000 SOXX   -0.005502256 227.115          \n",
      "2024.08.08 212.9754  62700000 SOXX   0.06912189   226.2833         \n",
      "2024.08.07 199.2059  63550000 SOXX   -0.02942184  224.779          \n",
      "2024.08.06 205.2446  63150000 SOXX   0.009712089  223.7508         \n",
      "2024.08.05 203.2704  62000000 SOXX   -0.01647147  222.7268         \n",
      "..\n"
     ]
    }
   ],
   "source": [
    "historical: `ticker`date xdesc historical\n",
    "show historical: update m200sma:mavg[200;nav_value] by ticker from historical where date = (first;date)fby `month$date"
   ]
  },
  {
   "cell_type": "code",
   "execution_count": 11,
   "id": "7f7af656-8600-4fb8-8306-4d1e4be042cd",
   "metadata": {
    "scrolled": true
   },
   "outputs": [
    {
     "data": {
      "text/plain": [
       "date       nav_value shares   ticker daily_retns   d200sma  m200sma \n",
       "--------------------------------------------------------------------\n",
       "2024.08.30 25.88643  55600000 EWA    -0.007072695  25.88643 25.88643\n",
       "2024.07.31 25.04421  59200000 EWA    0.01550802    24.89389 25.46532\n",
       "2024.06.28 24.45022  65000000 EWA    7.239724e-05  24.90141 25.12695\n",
       "2024.05.31 24.67653  67000000 EWA    0.01018097    24.78494 25.01435\n",
       "2024.04.30 23.35809  71600000 EWA    -0.02398628   24.71629 24.6831 \n",
       "2024.03.31 24.64454  75800000 EWA    0             24.58409 24.67667\n",
       "2024.02.29 23.96077  81400000 EWA    0.009388952   24.54468 24.5744 \n",
       "2024.01.31 23.63226  84200000 EWA    -0.00698352   24.4245  24.45663\n",
       "2023.11.30 22.47515  90200000 EWA    0.003628176   24.23681 24.23647\n",
       "2023.10.31 20.70762  90200000 EWA    -0.00382065   23.9085  23.88358\n",
       "2023.08.31 22.23646  93200000 EWA    -0.001556813  23.25353 23.73384\n",
       "2023.07.31 23.37513  92600000 EWA    0.01098248    22.95047 23.70395\n",
       "2023.06.30 22.56923  95600000 EWA    0.009273693   22.8552  23.61666\n",
       "2023.05.31 21.90467  96600000 EWA    -0.01563198   22.65871 23.49438\n",
       "2023.03.31 22.92774  92000000 EWA    0.004112933   22.49922 23.4566 \n",
       "2023.02.28 22.90374  96600000 EWA    -0.005492001  22.33629 23.42205\n",
       "2023.01.31 24.8386   82600000 EWA    0.008083999   22.4868  23.50538\n",
       "2022.11.30 23.66619  71200000 EWA    0.02567152    22.88007 23.51431\n",
       "2022.10.31 20.6946   71200000 EWA    -0.0006784606 22.90269 23.3659 \n",
       "2022.09.30 19.60863  72400000 EWA    -0.02444122   22.64648 23.17804\n",
       "..\n"
      ]
     },
     "execution_count": 11,
     "metadata": {},
     "output_type": "execute_result"
    }
   ],
   "source": [
    "//Vemos los días del mes que son seleccionados para calcular la sma mensual\n",
    "select from historical where ticker = `EWA, m200sma <> 0N"
   ]
  },
  {
   "cell_type": "markdown",
   "id": "79d6a213-baa7-47d7-b99f-a38123a72010",
   "metadata": {},
   "source": [
    "## Period Performance\n",
    "Calcularemos los rendimientos del etf en los siguientes periodos, en un valor porcentual(%):\n",
    "- 5 años\n",
    "- 1 año\n",
    "- 6 meses"
   ]
  },
  {
   "cell_type": "markdown",
   "id": "0581eec6-e43e-4d15-a4f3-c46f4f86fc70",
   "metadata": {},
   "source": [
    "### Performance - 5 Years"
   ]
  },
  {
   "cell_type": "code",
   "execution_count": 12,
   "id": "8367f686-9435-4432-bc51-a276b49887ad",
   "metadata": {},
   "outputs": [],
   "source": [
    "perf_5y: select perf_5y: 100*(first nav_value - last nav_value)%last nav_value by ticker \n",
    "    from select from historical where (date = max date) or (date = max date-5*365)"
   ]
  },
  {
   "cell_type": "code",
   "execution_count": 13,
   "id": "4f2d3c61-fd3e-405b-b137-5d2a3ead91f1",
   "metadata": {},
   "outputs": [],
   "source": [
    "performance: { [initial_date; period]\n",
    " period2: select from historical where (date = initial_date) or (date = initial_date - period*365); \n",
    " select performance:100*(first nav_value - last nav_value)%last nav_value by ticker from period2\n",
    " }"
   ]
  },
  {
   "cell_type": "code",
   "execution_count": 14,
   "id": "5510749f-a8eb-49d1-b6a6-1621bc7ad54d",
   "metadata": {},
   "outputs": [
    {
     "data": {
      "text/plain": [
       "ticker| performance\n",
       "------| -----------\n",
       "DVY   | 0          \n",
       "EEM   | 0          \n",
       "EFA   | 117.1842   \n",
       "EPP   | 0          \n",
       "EWA   | 286.3624   \n",
       "EWC   | 229.6995   \n",
       "EWD   | 218.5423   \n",
       "EWG   | 157.0636   \n",
       "EWH   | 166.6597   \n",
       "EWI   | 125.2692   \n",
       "EWJ   | 69.5595    \n",
       "EWK   | 152.5342   \n",
       "EWL   | 125.5268   \n",
       "EWM   | 169.0554   \n",
       "EWN   | 94.56887   \n",
       "EWO   | 455.4078   \n",
       "EWP   | 227.1234   \n",
       "EWQ   | 119.3636   \n",
       "EWS   | 245.7083   \n",
       "EWT   | 134.962    \n",
       "..\n"
      ]
     },
     "execution_count": 14,
     "metadata": {},
     "output_type": "execute_result"
    }
   ],
   "source": [
    "performance[2007.10.10;6]"
   ]
  },
  {
   "cell_type": "markdown",
   "id": "86c0b377-448d-4e52-b87b-df56db75cac4",
   "metadata": {},
   "source": [
    "### Performance - 3 Years"
   ]
  },
  {
   "cell_type": "code",
   "execution_count": 15,
   "id": "2ce71971-8038-4274-8c42-48b1d8e763fe",
   "metadata": {},
   "outputs": [],
   "source": [
    "perf_3y: select perf_3y: 100*(first nav_value - last nav_value)%last nav_value by ticker \n",
    "    from select from historical where (date = max date) or (date = max date- 3*365 - 1)"
   ]
  },
  {
   "cell_type": "markdown",
   "id": "7edaef62-2ff4-4ac5-a8c8-9854b8d9f169",
   "metadata": {},
   "source": [
    "### Performance - 1 Year"
   ]
  },
  {
   "cell_type": "code",
   "execution_count": 16,
   "id": "ea3d814d-40a4-4e83-af17-3c1f5c4a6626",
   "metadata": {},
   "outputs": [],
   "source": [
    "perf_1y: select perf_1y: 100*(first nav_value - last nav_value)%last nav_value by ticker \n",
    "    from select from historical where (date = max date) or (date = max date- 1*365)"
   ]
  },
  {
   "cell_type": "markdown",
   "id": "310901de-68a5-48de-b237-ffb25ae597d7",
   "metadata": {},
   "source": [
    "Al final añadimos a la table *resume_etf* los datos calculados por cada etf de los 3 rendimientos."
   ]
  },
  {
   "cell_type": "code",
   "execution_count": 17,
   "id": "c9aedfec-a2b5-4446-9927-0bae161d17c0",
   "metadata": {},
   "outputs": [
    {
     "data": {
      "text/plain": [
       "c             | t f a\n",
       "--------------| -----\n",
       "ticker        | s    \n",
       "inception_date| d    \n",
       "net_assets    | f    \n",
       "equity_class  | s    \n",
       "region        | s    \n",
       "market        | s    \n",
       "vol1y         | f    \n",
       "vol6m         | f    \n",
       "vol3m         | f    \n",
       "perf_5y       | f    \n",
       "perf_3y       | f    \n",
       "perf_1y       | f    \n"
      ]
     },
     "execution_count": 17,
     "metadata": {},
     "output_type": "execute_result"
    }
   ],
   "source": [
    "meta resume_etf: ((resume_etf lj `ticker xkey perf_5y) lj `ticker xkey perf_3y) lj `ticker xkey perf_1y"
   ]
  },
  {
   "cell_type": "markdown",
   "id": "f1907e05-04a1-41c5-90ef-9325fe5442bb",
   "metadata": {},
   "source": [
    "## Drawdowns\n",
    "\n",
    "Calcularemos:\n",
    "- 5 años\n",
    "- 3 años\n",
    "- 1 año"
   ]
  },
  {
   "cell_type": "code",
   "execution_count": 18,
   "id": "68691a8c-2bde-49b1-a126-f6d2b394f10d",
   "metadata": {},
   "outputs": [],
   "source": [
    "drawdown: {[table; period]\n",
    "    table: `ticker`date xasc table;\n",
    "    max_values: select date, ticker, max_value: nav_value\n",
    "        from table where date >= max date - period * 365, \n",
    "        nav_value = (max; nav_value) fby ticker;\n",
    "    w: flip max_values[`date],'max table[`date];\n",
    "    min_values: select date, ticker, min_value: nav_value from table;\n",
    "    filter_data: wj [w; `ticker`date; max_values; (min_values; (min; `min_value))];\n",
    "    select ticker,drawdown: 100 * (max_value - min_value) % min_value from filter_data\n",
    " }"
   ]
  },
  {
   "cell_type": "markdown",
   "id": "b3f63b14-a687-4904-abc4-a2e9ed964f54",
   "metadata": {},
   "source": [
    "### Drawdown - 5 Years"
   ]
  },
  {
   "cell_type": "code",
   "execution_count": 19,
   "id": "8e268f24-cbf8-44f7-9ee6-d691b3c75106",
   "metadata": {},
   "outputs": [],
   "source": [
    "drw_5y: delete drawdown from `ticker xcol update drw_5y: drawdown from drawdown[historical;5]"
   ]
  },
  {
   "cell_type": "markdown",
   "id": "9d2f9a35-ab7b-46b4-bda7-2a7e79361d88",
   "metadata": {},
   "source": [
    "### Drawdown - 3 Years"
   ]
  },
  {
   "cell_type": "code",
   "execution_count": 20,
   "id": "7e0c3c5d-e688-4a45-b492-7506c29b3f7c",
   "metadata": {},
   "outputs": [],
   "source": [
    "drw_3y: delete drawdown from `ticker xcol update drw_3y: drawdown from drawdown[historical;3]"
   ]
  },
  {
   "cell_type": "markdown",
   "id": "ec76a095-11c8-4d7f-b96e-88489740041a",
   "metadata": {},
   "source": [
    "### Drawdown - 1 Year"
   ]
  },
  {
   "cell_type": "code",
   "execution_count": 21,
   "id": "172e8cd7-6ba7-4398-99ca-ae0c7aa4d97e",
   "metadata": {},
   "outputs": [],
   "source": [
    "drw_1y: delete drawdown from `ticker xcol update drw_1y: drawdown from drawdown[historical;1]"
   ]
  },
  {
   "cell_type": "markdown",
   "id": "c7867673-f2ae-4ff5-92bf-be5b44f58b90",
   "metadata": {},
   "source": [
    "Finalmente añadimos a la table *resume_etf* los datos calculados por cada etf de los 3 drawdowns."
   ]
  },
  {
   "cell_type": "code",
   "execution_count": 22,
   "id": "2341902d-7554-4cf1-b352-e5fb52ca2d01",
   "metadata": {},
   "outputs": [
    {
     "data": {
      "text/plain": [
       "c             | t f a\n",
       "--------------| -----\n",
       "ticker        | s    \n",
       "inception_date| d    \n",
       "net_assets    | f    \n",
       "equity_class  | s    \n",
       "region        | s    \n",
       "market        | s    \n",
       "vol1y         | f    \n",
       "vol6m         | f    \n",
       "vol3m         | f    \n",
       "perf_5y       | f    \n",
       "perf_3y       | f    \n",
       "perf_1y       | f    \n",
       "drw_5y        | f    \n",
       "drw_3y        | f    \n",
       "drw_1y        | f    \n"
      ]
     },
     "execution_count": 22,
     "metadata": {},
     "output_type": "execute_result"
    }
   ],
   "source": [
    "meta resume_etf: ((resume_etf lj `ticker xkey drw_5y)lj `ticker xkey drw_3y) lj `ticker xkey drw_1y"
   ]
  },
  {
   "cell_type": "markdown",
   "id": "391ae2a4-ee8f-47e6-8125-3fd75154be85",
   "metadata": {},
   "source": [
    "## Inflows/Outflows\n",
    "\n",
    "Calculamos las variaciones de valor total de los etf, con la ampliación/salida de dinero en el mercado del etf por la variación mensual de las participaciones en circulación."
   ]
  },
  {
   "cell_type": "code",
   "execution_count": 23,
   "id": "ebc2517a-3675-447f-86ba-936fcd1a46c2",
   "metadata": {},
   "outputs": [],
   "source": [
    "historical: `ticker`date xasc historical"
   ]
  },
  {
   "cell_type": "code",
   "execution_count": 24,
   "id": "bb9f990a-79e6-4eeb-874a-239e62efb861",
   "metadata": {},
   "outputs": [],
   "source": [
    "historical: update in_out_flow_per: 100 * (shares - prev shares) % prev shares,\n",
    "    in_out_flow_val: nav_value * shares - prev shares\n",
    "    by ticker from historical where date = (last;date)fby `month$date"
   ]
  },
  {
   "cell_type": "markdown",
   "id": "bf1134d9-b7bb-4ab2-bad8-2f32c7ae4647",
   "metadata": {},
   "source": [
    "### Maximum and Minimum\n",
    "\n",
    "Guardaremos las fechas de mlos máximos y mínimos historicos de cotización en la tabla de resume_etf, para poder facilitar y agilizar acceder a ese valor."
   ]
  },
  {
   "cell_type": "code",
   "execution_count": 25,
   "id": "7d676b07-eb56-4518-992d-35b87afcb437",
   "metadata": {},
   "outputs": [],
   "source": [
    "resume_etf : resume_etf lj `ticker xkey (select ticker,max_day:date from historical where nav_value=(max; nav_value) fby ticker) \n",
    "resume_etf : resume_etf lj `ticker xkey (select ticker,min_day:date from historical where nav_value=(min; nav_value) fby ticker)"
   ]
  },
  {
   "cell_type": "markdown",
   "id": "bf89b4a2-36b8-46b9-9a1d-f129ee6126f0",
   "metadata": {},
   "source": [
    "# Save to Data Warehouse\n",
    "\n",
    "Una vez hemos generado toda la información y las tablas están listas, estas las guardaremos en disco.\n",
    "\n",
    "Esto nos dará esa modularidad y persistencia de los datos para otros procesos futuros, pudiendo acudir a unos  datos ya elaborados y normalizados sin tener que acudir a los datos en bruto del DataLake. \n",
    "\n",
    "Guardaremos nuestras tablas en la carpeta de tablas del Data Warehouse."
   ]
  },
  {
   "cell_type": "markdown",
   "id": "751a7c2f-164e-4845-a06a-938e61f8f80d",
   "metadata": {},
   "source": [
    "### Guardado como Binarios"
   ]
  },
  {
   "cell_type": "code",
   "execution_count": 35,
   "id": "334517cb-7a0b-467b-a1c4-8399aeadd40f",
   "metadata": {},
   "outputs": [
    {
     "data": {
      "text/plain": [
       "39 4194592\n"
      ]
     },
     "execution_count": 35,
     "metadata": {},
     "output_type": "execute_result"
    },
    {
     "data": {
      "text/plain": [
       "0 4194592\n"
      ]
     },
     "execution_count": 35,
     "metadata": {},
     "output_type": "execute_result"
    }
   ],
   "source": [
    "\n",
    "\\ts `:Data/DataWarehouse/Tables/historical set historical\n",
    "\n",
    "\\ts `:Data/DataWarehouse/Tables/resume_etf set resume_etf\n"
   ]
  },
  {
   "cell_type": "markdown",
   "id": "f6e0ae5d-37d9-48a1-82b0-246b87edb322",
   "metadata": {},
   "source": [
    "### Guardado Particionado"
   ]
  },
  {
   "cell_type": "code",
   "execution_count": 50,
   "id": "e1743747-c2b7-467c-90fe-7a140496a1df",
   "metadata": {},
   "outputs": [
    {
     "data": {
      "text/plain": [
       "24 12583696\n"
      ]
     },
     "execution_count": 50,
     "metadata": {},
     "output_type": "execute_result"
    }
   ],
   "source": [
    "\\ Tenemos que particionar y crear un enum diferenciado para todos los elementos de ticker\n",
    "\\ts `:Data/DataWarehouse/Tables/historicalSplayed/historical/ set .Q.en[`:Data/DataWarehouse/Tables/historicalSplayed/] historical;\n"
   ]
  },
  {
   "cell_type": "code",
   "execution_count": 51,
   "id": "bbc0e67b-8c75-4854-a4b8-cca9e4db1bbe",
   "metadata": {},
   "outputs": [
    {
     "data": {
      "text/plain": [
       "0 4199824\n"
      ]
     },
     "execution_count": 51,
     "metadata": {},
     "output_type": "execute_result"
    }
   ],
   "source": [
    "\\ts `:Data/DataWarehouse/Tables/resume_etfSplayed/resume_etf set .Q.en[`:Data/DataWarehouse/Tables/resume_etfSplayed/] resume_etf;"
   ]
  },
  {
   "cell_type": "markdown",
   "id": "1561164f-03da-4ab4-b551-72a6fe467f14",
   "metadata": {},
   "source": [
    "# Data Analysis: \"The Ideal Conditions for ETFs to invest in!\"\n",
    "\n",
    "La idea es analizar los datos recopilados y poder acotar bajo que *parámetros/características* nuestros etf se comportan de cierto modo. \n",
    "\n",
    "El objetivo: **Poder hacer prediciones y modelos de las cotizaciones con mayores garantías.**\n",
    "\n",
    "Nos encontramos ahora con unas tablas enriquecidas con mucha información de la siguiente manera:\n",
    "\n",
    "> Tabla **Historical**: A parte de las ya existentes **date**, **nav_value**, **shares**, **ticker** se añade:\n",
    "> - ***Daily Returns***: El aumento/pérdida de valor de manera % de un ETF respecto al dato previo.\n",
    "> - ***SMA 200 Days***: El cálculo de la medía móvil de los últimos 200 días por cada ETF.\n",
    "> - ***SMA 200 Months***: El cálculo de la medía móvil de los últimos 200 meses(último dato del mes disponible) por cada ETF.\n",
    "> - ***Inflows/Outflows %***: Las entradas/salidas de dinero a nuestro ETF de manera mensual, con la ampliación/reducción de participaciones(shares) disponibles en el mercado.\n",
    "> - ***Inflows/Outflows Value***: El valor en $ de la variación de participaciones en el mercado mensual.\n",
    "\n",
    "> Tabla **Resume**: A parte de las ya existentes **ticker**, **inception_date**, **net_assets**, **equity_class**, **region**, **market** se añade:\n",
    "> - ***Volatility: 1y, 6m, 3m***: La volatilidad de los precios del ETF en esos periodos.\n",
    "> - ***Performance: 5y, 3y, 1y***: La variación del valor del ETF en esos periodos.\n",
    "> - ***Drawdowns: 5y, 3y, 1y***; La caída máxima del precio de cotización en esos periodos."
   ]
  },
  {
   "cell_type": "code",
   "execution_count": null,
   "id": "d51156f3-e35b-4af2-8e37-2d3b7dd36fc0",
   "metadata": {},
   "outputs": [],
   "source": []
  },
  {
   "cell_type": "markdown",
   "id": "5816f41c-88f3-45ec-a970-94a688d01bb6",
   "metadata": {},
   "source": [
    "# Extras + info futuro\n"
   ]
  },
  {
   "cell_type": "code",
   "execution_count": null,
   "id": "1083619e-d8e7-4135-8245-4fc4ebdb002d",
   "metadata": {},
   "outputs": [],
   "source": [
    "count select ticker from resume_etf where market = `$\"Developed\"\n",
    "select from historical where ticker = `EWA, m200sma <> 0N\n",
    "count select ticker from resume_etf where market = `Emerging"
   ]
  },
  {
   "cell_type": "code",
   "execution_count": null,
   "id": "5a4d2f9b-22b9-4f99-b8d7-c88524b8f52c",
   "metadata": {},
   "outputs": [],
   "source": [
    "//Filtrado  mezclando las dos tablas\n",
    "select from historical where ticker in exec ticker from resume_etf where market = `$\"Emerging\"\n",
    "//Lo mismo\n",
    "show a: select ticker from resume_etf where market = `$\"Developed\"\n",
    "select from historical where ticker in a[`ticker]"
   ]
  },
  {
   "cell_type": "code",
   "execution_count": null,
   "id": "8d64ff98-1ef7-4c89-aa7e-909f1d644edf",
   "metadata": {
    "scrolled": true,
    "tags": []
   },
   "outputs": [],
   "source": [
    "select distinct equity_class from resume_etf\n",
    "select distinct region from resume_etf"
   ]
  },
  {
   "cell_type": "code",
   "execution_count": null,
   "id": "b2e14c10-7563-4e8f-8101-340a5e7cb4c5",
   "metadata": {},
   "outputs": [],
   "source": [
    "//maximo aumento\n",
    "select from historical where daily_retns=(max; daily_retns) fby ticker"
   ]
  },
  {
   "cell_type": "code",
   "execution_count": null,
   "id": "afe99c44-3e94-4161-8a86-3b7decba14b7",
   "metadata": {},
   "outputs": [],
   "source": []
  },
  {
   "cell_type": "code",
   "execution_count": null,
   "id": "96a2de61-8ddc-4a90-8e40-818b2aa50595",
   "metadata": {},
   "outputs": [],
   "source": []
  },
  {
   "cell_type": "code",
   "execution_count": null,
   "id": "8957e34d-95c3-4d7d-9907-89e5207db7e8",
   "metadata": {},
   "outputs": [],
   "source": []
  },
  {
   "cell_type": "code",
   "execution_count": null,
   "id": "c10ec8a3-a0ee-4378-a7f3-4b088af4a96c",
   "metadata": {},
   "outputs": [],
   "source": []
  }
 ],
 "metadata": {
  "kernelspec": {
   "display_name": "Q (kdb+)",
   "language": "q",
   "name": "kdb_kernel"
  },
  "language_info": {
   "file_extension": ".q",
   "mimetype": "text/x-q",
   "name": "q",
   "version": "4.1.0"
  }
 },
 "nbformat": 4,
 "nbformat_minor": 5
}
