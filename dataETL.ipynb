{
 "cells": [
  {
   "cell_type": "markdown",
   "id": "42bbe3ef-eb08-48d9-8539-f6d58d038897",
   "metadata": {
    "editable": true,
    "slideshow": {
     "slide_type": ""
    },
    "tags": []
   },
   "source": [
    "Estudiaremos en el presente Notebook las cotizaciones y las distintas carácterísticas que componen los ETFs de BlackRock, conocidos como iShares.\n",
    "Todos ellos serán los cotizados en **USD-$**, para poder realizar comparativas y agrupaciones de forma más sencilla.\n",
    "\n",
    "Debido a esta condición, añadida a un mínimo de 20 años desde su salida al mercado para tener un número considerable de registros, nos encontramos ante **87 ETFs** distintos para analizar.\n"
   ]
  },
  {
   "cell_type": "markdown",
   "id": "76882986-104c-4609-92bc-e95ec59fb832",
   "metadata": {},
   "source": [
    "# Data Project"
   ]
  },
  {
   "cell_type": "markdown",
   "id": "07185495-7f63-49e6-a997-f7cca11d5468",
   "metadata": {},
   "source": [
    "## Dataset\n",
    "\n",
    "Nos quedará un Dataset compuesto por el histórico de la capitalización de cada ETF de iShare, que añadiremos a nuestro entorno de desarrollo en la carpeta de *pre-processed*, donde incluiremos todos los csv.\n",
    "\n",
    "Estos csv han sido generados despúes de un primer paso de darle calidad a nuestros datos a partir de un script de Python que transforma los datos de la carpeta *raw* a los csv de *pre-processed*, preparándolos para su uso en KDB+.\n",
    "\n",
    "En nuestro mismo directorio, recibiremos otro csv, donde estará la información a cargar para la tabla Resume, también generado por Python.\n",
    "\n",
    "\n",
    "  > Tabla **Historical**: Registra el histórico de cotización de los ETFs. \n",
    "  >  - ***date***: La fecha del registro del histórico.    \n",
    "  > - ***nav_value***: El valor de la participación en esa fecha.    \n",
    "  > - ***shares***: El nº de participaciones en el mercado del ETF en esa fecha.  \n",
    "  > - ***ticker***: El ticker identificativo del ETF.\n",
    "\n",
    "  > Tabla **Resume**: Se trata de la información general del los ETFs de iShare. \n",
    "  >  - ***ticker***: El identificativo de cada ETF de iShares.    \n",
    "  > - ***inception_date***: La fecha a la que sale al mercado el ETF.    \n",
    "  > - ***net_assets***: El total de capitalización del ETF en el momento de sacar los datos.  \n",
    "  > - ***equity_class***: Muestra el tipo de activo que compone el ETF. *Large/Mid Cap - All Cap - Large Cap - Mid Cap - Small Cap*\n",
    "  > - ***region***: Muestra la región de dónde son las empresas. *Asia Pacific - North America  - Europe - Latin America - Global - Middle East and Africa*\n",
    "  > - ***market***: Muestra el tipo de mercado que tiene las empresas. *Developed - Emerging*\n",
    "\n",
    "1. Crearemos en un primer momento las tablas vacías.\n",
    "2. Importaremos desde los csv la información y la insertaremos en nuestras tablas."
   ]
  },
  {
   "cell_type": "code",
   "execution_count": null,
   "id": "5b824198-aad5-4cf2-b17d-c619b8af17ef",
   "metadata": {},
   "outputs": [],
   "source": [
    "historical:([]date:`date$();nav_value:`float$();shares:`long$();ticker:`g#`$()) // ... ticker:`g#`$()\n",
    "resume_etf:([ticker:`$()]inception_date:`date$();net_assets:`float$();\n",
    "            equity_class:`$();region:`$();market:`$())\n",
    "/@[`historical;`ticker;`g#];\n",
    "meta historical"
   ]
  },
  {
   "cell_type": "markdown",
   "id": "1d6adfc4-6670-4c65-843a-15dfcea87ec9",
   "metadata": {},
   "source": [
    "## Data Processing - Filter and Quality\n",
    "Nuestros datos están disponibles en la carpeta *Data*, pero se presentan en un formato de Excel y con información poco valiosa y muy dispersa para el estudio. Por tanto consideramos que se encuentran en un proceso raw en nuestro proyecto de Ingeniería de Datos.\n",
    "\n",
    "Por ello contamos con 2 scripts a realizar, donde filtraremos, renombraremos y daremos calidad a los datos, para posteriormente poder estudiarlos de mejor manera.\n",
    "\n",
    "Pero antes de ello realizaremos la instalación de las librerías correspondientes, actualizadas en el *requirements.txt*:"
   ]
  },
  {
   "cell_type": "code",
   "execution_count": null,
   "id": "376bf4e8-f75a-46a5-a4ef-41cbb156eba7",
   "metadata": {},
   "outputs": [],
   "source": [
    "system \"pip install -r requirements.txt\""
   ]
  },
  {
   "cell_type": "code",
   "execution_count": null,
   "id": "e8df53a2-3268-4725-be93-06bab1dcf893",
   "metadata": {},
   "outputs": [],
   "source": [
    "system \"python3 Data/script_etf_a_csv.py Data/RawExcels/ Data/iShares-UnitedStates.xlsm\"\n",
    "system \"python3 Data/script_resume_etf.py Data/iShares-UnitedStates.xlsm\""
   ]
  },
  {
   "cell_type": "markdown",
   "id": "66e659e5-0d26-4f82-903e-292e77a318f5",
   "metadata": {},
   "source": [
    "## Data Ingest"
   ]
  },
  {
   "cell_type": "markdown",
   "id": "d1644035-024a-4f9a-a426-e3be6b9c9323",
   "metadata": {},
   "source": [
    "Procedemos a importar los archivos de los ETFs que se encuentran en la ruta : *Data/PreProcessed/etf/* y los cargaremos  para poder operar con ellos."
   ]
  },
  {
   "cell_type": "code",
   "execution_count": null,
   "id": "8a451282-52ca-4adf-b63b-7824c59df73b",
   "metadata": {},
   "outputs": [],
   "source": [
    "csv_files: system \"ls Data/PreProcessed/etf/*.csv\";"
   ]
  },
  {
   "cell_type": "markdown",
   "id": "b8dc4646-a77c-4e60-9f30-a8ef8a26c8d1",
   "metadata": {},
   "source": [
    "Insertamos en nuestra tabla **'historical'**  usando un iterador y las características de programación funcional y su compilación de derecha a izquierda que nos aporta el lenguaje.\n",
    "\n",
    "Importamos los datos del csv, actualizamos la columna ticker con el nombre que queremos y realizamos un upsert sobre la tabla."
   ]
  },
  {
   "cell_type": "markdown",
   "id": "027f7cb0-118b-4ba2-a1a6-930b1d97758d",
   "metadata": {},
   "source": [
    "##### Ingesta en Historical"
   ]
  },
  {
   "cell_type": "code",
   "execution_count": null,
   "id": "a56fd79c-32bc-454f-8db4-984da6d623cf",
   "metadata": {},
   "outputs": [],
   "source": [
    "{ ticker_name: ssr[ssr[; \"Data/PreProcessed/etf/\"; \"\"] x; \".csv\"; \"\"]; \n",
    "    `historical upsert update ticker:`$ticker_name from (\"DFJ\"; enlist csv) 0: `$x;\n",
    " } each csv_files;"
   ]
  },
  {
   "cell_type": "markdown",
   "id": "51f68e07-1c6b-4933-88f4-02b5217452e1",
   "metadata": {},
   "source": [
    "##### Ingesta en Resume_etf"
   ]
  },
  {
   "cell_type": "code",
   "execution_count": null,
   "id": "5f40a15e-b3b4-4759-ba24-92dca4007703",
   "metadata": {},
   "outputs": [],
   "source": [
    "`resume_etf insert (\"SDFSSS\"; enlist csv) 0: `$\"Data/PreProcessed/resume.csv\";"
   ]
  },
  {
   "cell_type": "markdown",
   "id": "2d7002e0-dfa0-4262-8392-d9b31d88bab5",
   "metadata": {},
   "source": [
    "# New Data and Metadata\n",
    "\n",
    "Procederemos a crear columnas en nuestras tablas con intención de recopilar información sobre el histórico y poder analizar posteriormente con mayor información y datos."
   ]
  },
  {
   "cell_type": "markdown",
   "id": "c25d08a5-5085-4ea3-a5ee-12b9ff4a0f76",
   "metadata": {},
   "source": [
    "## Daily Returns:\n",
    " Añadiremos la diferencia de precios diaria en la tabla de *Historical* para poder calcular la volatilidad total.\n",
    "\n",
    " Por ello, lo primero que haremos será ordenar por ticker y fecha paraque se calcule de manera correcta los daily returns."
   ]
  },
  {
   "cell_type": "code",
   "execution_count": null,
   "id": "aca5f17e-2860-4db5-9325-c5b9281b5321",
   "metadata": {},
   "outputs": [],
   "source": [
    "historical: `ticker`date xasc historical;\n",
    "historical: update daily_retns: (nav_value-prev nav_value)%prev nav_value by ticker from historical"
   ]
  },
  {
   "cell_type": "markdown",
   "id": "30e8a828-d0c4-4113-ba52-703df62185e6",
   "metadata": {},
   "source": [
    "## Daily Performance"
   ]
  },
  {
   "cell_type": "markdown",
   "id": "0253ac07-548c-41cf-a07f-58001dbbb257",
   "metadata": {},
   "source": [
    "Guardaremos la variación de precio diaria de los ticker."
   ]
  },
  {
   "cell_type": "code",
   "execution_count": null,
   "id": "e59c7795-52b4-478d-beba-83959a67f1be",
   "metadata": {},
   "outputs": [],
   "source": [
    "historical: `ticker`date xasc historical;\n",
    "historical: update daily_performance: nav_value-prev nav_value by ticker from historical"
   ]
  },
  {
   "cell_type": "markdown",
   "id": "edbf75b4-aa4f-4e5c-938b-0b1ce9acb9bc",
   "metadata": {},
   "source": [
    "## Volatility\n",
    "Añadimos la volatilidad total por ticker a la tabla *Historical*.\n",
    "\n",
    "Tomaremos la fórmula de la Volatilidad cómo: \n",
    "> Volatility = σ<sub>period</sub> * √T<sub>period</sub>\n",
    "\n",
    "En mercados financieros los años se tratan de 252 días de mercados abiertos.\n",
    "\n",
    "Para ello usaremos la función creada a continuación, que recibe 2 parámetros, del registro del que se va a procear y el periodo de la volatilidad del que se va a calcular.\n",
    "\n",
    "El cálculo se hace manera diaria, cogiendo los periodos previos a cada día de una manera dinámica. \n"
   ]
  },
  {
   "cell_type": "code",
   "execution_count": null,
   "id": "6e22af89-c2c3-4a6a-a4fa-154465f18ff8",
   "metadata": {
    "scrolled": true
   },
   "outputs": [],
   "source": [
    "calc_vol: {\n",
    "    ticker1: x`ticker;           \n",
    "    initial_date: x`date;        \n",
    "    other_date: \"d\"$(initial_date - 365 * y);      \n",
    "    limit_date: first (select inception_date from resume_etf where ticker = ticker1)[`inception_date];    \n",
    "    a: $[other_date <= limit_date;\n",
    "            0n;\n",
    "            [\n",
    "                filtered: select daily_retns from historical where ticker = ticker1, \n",
    "                            date within (other_date; initial_date);\n",
    "                dev filtered[`daily_retns]* sqrt[252 * y]\n",
    "            ]\n",
    "        ]  \n",
    " }"
   ]
  },
  {
   "cell_type": "markdown",
   "id": "eea49b38-3964-45b0-a871-452216e4776a",
   "metadata": {},
   "source": [
    "### Historical Volatility - 5 Years"
   ]
  },
  {
   "cell_type": "code",
   "execution_count": null,
   "id": "158889fd-dcfc-42e7-b9be-79331875f66b",
   "metadata": {},
   "outputs": [],
   "source": [
    "historical: update daily_5yvol: {calc_vol[x;5]} each historical from historical;"
   ]
  },
  {
   "cell_type": "markdown",
   "id": "e35cfa3b-81f0-42f5-aef1-604ebb004e0a",
   "metadata": {},
   "source": [
    "### Historical Volatility - 3 Years"
   ]
  },
  {
   "cell_type": "code",
   "execution_count": null,
   "id": "cac5dfe1-2e18-40f6-a5dd-7c2614280108",
   "metadata": {},
   "outputs": [],
   "source": [
    "historical: update daily_3yvol: {calc_vol[x;3]} each historical from historical;"
   ]
  },
  {
   "cell_type": "markdown",
   "id": "6759a2a5-fcd0-4b07-8ad0-eef402409c06",
   "metadata": {},
   "source": [
    "### Historical Volatility - 1 Year"
   ]
  },
  {
   "cell_type": "code",
   "execution_count": null,
   "id": "6771a839-3671-43d5-91ef-4a00e89898f7",
   "metadata": {},
   "outputs": [],
   "source": [
    "historical: update daily_1yvol: {calc_vol[x;1]} each historical from historical;"
   ]
  },
  {
   "cell_type": "markdown",
   "id": "ddd5c5d5-9bad-4000-a693-05bf7c5617d5",
   "metadata": {},
   "source": [
    "### Historical Volatility - 6 Months"
   ]
  },
  {
   "cell_type": "code",
   "execution_count": null,
   "id": "2e953602-1080-4acb-8562-cdc9efdf7ed8",
   "metadata": {},
   "outputs": [],
   "source": [
    "historical: update daily_6mvol: {calc_vol[x;0.5]} each historical from historical;"
   ]
  },
  {
   "cell_type": "markdown",
   "id": "f28e0425-abfd-4cbc-8db3-2a3fcbc5acc8",
   "metadata": {},
   "source": [
    "### Historical Volatility - 3 Months"
   ]
  },
  {
   "cell_type": "code",
   "execution_count": null,
   "id": "c0c43c9a-e2ea-40dd-8347-15580d0408b2",
   "metadata": {},
   "outputs": [],
   "source": [
    "historical: update daily_3mvol: {calc_vol[x;0.25]} each historical from historical;"
   ]
  },
  {
   "cell_type": "markdown",
   "id": "f4d058d9-1440-4d8f-aedb-d57a9c24cb18",
   "metadata": {},
   "source": [
    "Finalmente revisamos que se haya añadido correctamente a *historical*."
   ]
  },
  {
   "cell_type": "markdown",
   "id": "f4ea72cf-c81b-43f5-9b11-acddbfa49914",
   "metadata": {},
   "source": [
    "## Quartiles of Volatility\n",
    "\n",
    "A la hora de estimar y agrupar nos interesará saber en que puntos nuestras volatilidades está en cada cuartil. Por ello añadiremos a la tabla resume_etf los valores de los quartiles de 3 y 5 años para la hora de calcular los % tener las fronteras de referencia."
   ]
  },
  {
   "cell_type": "code",
   "execution_count": null,
   "id": "f5433bdf-a71e-4b35-854c-61e214fc15e3",
   "metadata": {},
   "outputs": [],
   "source": [
    "etfs: exec ticker from resume_etf;\n",
    "{\n",
    "    volts: exec daily_5yvol from historical where ticker=x;\n",
    "    filtP: volts where not null volts;\n",
    "    sortedVolts: asc filtP;\n",
    "    iP: count sortedVolts;\n",
    "    q1IndexP: \"i\"$floor (iP + 1) % 4;\n",
    "    q2IndexP: \"i\"$floor (iP + 1) % 2;\n",
    "    q3IndexP: \"i\"$floor 3 * (iP + 1) % 4;\n",
    "    q1P: $[q1IndexP > 0; sortedVolts[q1IndexP - 1]; null];\n",
    "    q2P: $[q2IndexP > 0; sortedVolts[q2IndexP - 1]; null];\n",
    "    q3P: $[q3IndexP > 0; sortedVolts[q3IndexP - 1]; null];\n",
    "    resume_etf: update Q1_5yV: q1P, Q2_5yV: q2P, Q3_5yV: q3P from `resume_etf where ticker=x;\n",
    " } each etfs;\n",
    "\n",
    "{\n",
    "    volts: exec daily_3yvol from historical where ticker=x;\n",
    "    filtP: volts where not null volts;\n",
    "    sortedVolts: asc filtP;\n",
    "    iP: count sortedVolts;\n",
    "    q1IndexP: \"i\"$floor (iP + 1) % 4;\n",
    "    q2IndexP: \"i\"$floor (iP + 1) % 2;\n",
    "    q3IndexP: \"i\"$floor 3 * (iP + 1) % 4;\n",
    "    q1P: $[q1IndexP > 0; sortedVolts[q1IndexP - 1]; null];\n",
    "    q2P: $[q2IndexP > 0; sortedVolts[q2IndexP - 1]; null];\n",
    "    q3P: $[q3IndexP > 0; sortedVolts[q3IndexP - 1]; null];\n",
    "    resume_etf: update Q1_3yV: q1P, Q2_3yV: q2P, Q3_3yV: q3P from `resume_etf where ticker=x;\n",
    " }each etfs;\n",
    "\n",
    "{\n",
    "    volts: exec daily_1yvol from historical where ticker=x;\n",
    "    filtP: volts where not null volts;\n",
    "    sortedVolts: asc filtP;\n",
    "    iP: count sortedVolts;\n",
    "    q1IndexP: \"i\"$floor (iP + 1) % 4;\n",
    "    q2IndexP: \"i\"$floor (iP + 1) % 2;\n",
    "    q3IndexP: \"i\"$floor 3 * (iP + 1) % 4;\n",
    "    q1P: $[q1IndexP > 0; sortedVolts[q1IndexP - 1]; null];\n",
    "    q2P: $[q2IndexP > 0; sortedVolts[q2IndexP - 1]; null];\n",
    "    q3P: $[q3IndexP > 0; sortedVolts[q3IndexP - 1]; null];\n",
    "    resume_etf: update Q1_1yV: q1P, Q2_1yV: q2P, Q3_1yV: q3P from `resume_etf where ticker=x;\n",
    " }each etfs;\n",
    "\n",
    "{\n",
    "    volts: exec daily_6mvol from historical where ticker=x;\n",
    "    filtP: volts where not null volts;\n",
    "    sortedVolts: asc filtP;\n",
    "    iP: count sortedVolts;\n",
    "    q1IndexP: \"i\"$floor (iP + 1) % 4;\n",
    "    q2IndexP: \"i\"$floor (iP + 1) % 2;\n",
    "    q3IndexP: \"i\"$floor 3 * (iP + 1) % 4;\n",
    "    q1P: $[q1IndexP > 0; sortedVolts[q1IndexP - 1]; null];\n",
    "    q2P: $[q2IndexP > 0; sortedVolts[q2IndexP - 1]; null];\n",
    "    q3P: $[q3IndexP > 0; sortedVolts[q3IndexP - 1]; null];\n",
    "    resume_etf: update Q1_6mV: q1P, Q2_6mV: q2P, Q3_6mV: q3P from `resume_etf where ticker=x;\n",
    " }each etfs;\n",
    "\n",
    "{\n",
    "    volts: exec daily_3mvol from historical where ticker=x;\n",
    "    filtP: volts where not null volts;\n",
    "    sortedVolts: asc filtP;\n",
    "    iP: count sortedVolts;\n",
    "    q1IndexP: \"i\"$floor (iP + 1) % 4;\n",
    "    q2IndexP: \"i\"$floor (iP + 1) % 2;\n",
    "    q3IndexP: \"i\"$floor 3 * (iP + 1) % 4;\n",
    "    q1P: $[q1IndexP > 0; sortedVolts[q1IndexP - 1]; null];\n",
    "    q2P: $[q2IndexP > 0; sortedVolts[q2IndexP - 1]; null];\n",
    "    q3P: $[q3IndexP > 0; sortedVolts[q3IndexP - 1]; null];\n",
    "    resume_etf: update Q1_3mV: q1P, Q2_3mV: q2P, Q3_3mV: q3P from `resume_etf where ticker=x;\n",
    " }each etfs;"
   ]
  },
  {
   "cell_type": "code",
   "execution_count": null,
   "id": "30bb1d92-d87b-4832-9c16-d92bc380a82a",
   "metadata": {},
   "outputs": [],
   "source": [
    "meta historical\n",
    "meta resume_etf"
   ]
  },
  {
   "cell_type": "markdown",
   "id": "1c11ed08-ff9b-47be-9e65-96c5ce6c9b0a",
   "metadata": {},
   "source": [
    "## Moving Averages\n",
    "\n",
    "Calcularemos las medias móviles de ciertos periodos:\n",
    " - 200 días\n",
    " - 200 meses\n"
   ]
  },
  {
   "cell_type": "markdown",
   "id": "6115da5e-85dd-42ea-8c2a-68807c465c57",
   "metadata": {},
   "source": [
    "### SMA 200 Days\n",
    "\n",
    "Usamos la ordenación ascendente para coger los últimos 200 registros desde el principio de los registros disponibles."
   ]
  },
  {
   "cell_type": "code",
   "execution_count": null,
   "id": "e0c109ab-d02c-496d-b9d2-9c3976d86b51",
   "metadata": {},
   "outputs": [],
   "source": [
    "historical: `ticker`date xasc historical;\n",
    "historical: update d200sma:mavg[200;nav_value] by ticker from historical"
   ]
  },
  {
   "cell_type": "markdown",
   "id": "3fee27f0-9d93-4aca-8b5d-f050f9827395",
   "metadata": {},
   "source": [
    "### SMA 200 Months\n",
    "\n",
    "Usamos la ordenación ascendente + last para coger el ultimo día del mes empezando por los primeros registros disponibles."
   ]
  },
  {
   "cell_type": "code",
   "execution_count": null,
   "id": "5ad13ee5-808b-4bc1-8260-5243ba1be837",
   "metadata": {},
   "outputs": [],
   "source": [
    "temp: select last date, last nav_value by ticker, month:`month$date from historical\n",
    "temp: update m200sma: 200 mavg nav_value by ticker from temp\n",
    "temp: delete month from temp\n",
    "historical: historical lj `ticker`date xkey temp"
   ]
  },
  {
   "cell_type": "code",
   "execution_count": null,
   "id": "dff49f09-0993-437f-b90e-84d953deb402",
   "metadata": {},
   "outputs": [],
   "source": [
    "meta historical"
   ]
  },
  {
   "cell_type": "markdown",
   "id": "79d6a213-baa7-47d7-b99f-a38123a72010",
   "metadata": {},
   "source": [
    "## Period Performance\n",
    "Calcularemos los rendimientos a **FUTURO** de cada momento del etf en los siguientes periodos, en un valor porcentual(%):\n",
    "- 5 años\n",
    "- 3 años\n",
    "- 1 año\n",
    "- 6 meses\n",
    "- 3 meses\n",
    "\n",
    "Para ello usaremos la siguiente función, que realiza un cálculo dinámico de los registros."
   ]
  },
  {
   "cell_type": "code",
   "execution_count": null,
   "id": "55821476-1b0b-4e77-8e21-a6472c94bc3c",
   "metadata": {},
   "outputs": [],
   "source": [
    "calc_performance: {\n",
    "    ticker1: x`ticker;           \n",
    "    initial_date: x`date;        \n",
    "    other_date: \"d\"$(initial_date + 365 * y);\n",
    "    limit_date: exec max date from historical where ticker = ticker1;\n",
    "    a: $[other_date > limit_date;\n",
    "            0n;\n",
    "            [\n",
    "                ant: first (select nav_value from historical \n",
    "                        where date = initial_date, ticker = ticker1)`nav_value;\n",
    "                act: first (select nav_value from historical \n",
    "                        where date = other_date, ticker = ticker1)`nav_value;\n",
    "                (act-ant)%ant\n",
    "            ]\n",
    "        ]  \n",
    " }"
   ]
  },
  {
   "cell_type": "markdown",
   "id": "d7e0f9b6-6d71-4cd0-9456-d293a3530caa",
   "metadata": {},
   "source": [
    "### Performance - 5 Years"
   ]
  },
  {
   "cell_type": "code",
   "execution_count": null,
   "id": "a080044f-c26f-4a18-afa6-871579c5cc77",
   "metadata": {
    "scrolled": true
   },
   "outputs": [],
   "source": [
    "historical: update performance_5y: {calc_performance[x;5]} each historical from historical;"
   ]
  },
  {
   "cell_type": "markdown",
   "id": "0e2703a1-7d6e-49a1-a184-e8fae41e5f10",
   "metadata": {},
   "source": [
    "### Performance - 3 Years"
   ]
  },
  {
   "cell_type": "code",
   "execution_count": null,
   "id": "8cbda9ab-a48a-4fa6-90e9-ffa9820126a3",
   "metadata": {},
   "outputs": [],
   "source": [
    "historical: update performance_3y: {calc_performance[x;3]} each historical from historical;"
   ]
  },
  {
   "cell_type": "markdown",
   "id": "6b50e380-5fdc-4b33-a724-3eee26789ba3",
   "metadata": {},
   "source": [
    "### Performance - 1 Year"
   ]
  },
  {
   "cell_type": "code",
   "execution_count": null,
   "id": "40d66c24-9cad-478a-be42-fcaa40a0a3e4",
   "metadata": {},
   "outputs": [],
   "source": [
    "historical: update performance_1y: {calc_performance[x;1]} each historical from historical;"
   ]
  },
  {
   "cell_type": "markdown",
   "id": "166ea391-537f-4b0f-9961-cf2cf979f2d0",
   "metadata": {},
   "source": [
    "### Performance - 6 Months"
   ]
  },
  {
   "cell_type": "code",
   "execution_count": null,
   "id": "51b14f47-5363-4a76-b3d6-831fc82e790d",
   "metadata": {},
   "outputs": [],
   "source": [
    "historical: update performance_6m: {calc_performance[x;0.5]} each historical from historical;"
   ]
  },
  {
   "cell_type": "markdown",
   "id": "494e21a8-7dea-4713-b287-5f28770c5af5",
   "metadata": {},
   "source": [
    "### Performance - 3 Months"
   ]
  },
  {
   "cell_type": "code",
   "execution_count": null,
   "id": "af36412f-b6fb-4223-a2af-2e897fc68e7d",
   "metadata": {},
   "outputs": [],
   "source": [
    "historical: update performance_3m: {calc_performance[x;0.25]} each historical from historical;"
   ]
  },
  {
   "cell_type": "markdown",
   "id": "310901de-68a5-48de-b237-ffb25ae597d7",
   "metadata": {},
   "source": [
    "Al final añadimos a la table *historical* los datos calculados por cada valor de cotización de los etf."
   ]
  },
  {
   "cell_type": "code",
   "execution_count": null,
   "id": "c9aedfec-a2b5-4446-9927-0bae161d17c0",
   "metadata": {
    "editable": true,
    "slideshow": {
     "slide_type": ""
    },
    "tags": []
   },
   "outputs": [],
   "source": [
    "meta historical"
   ]
  },
  {
   "cell_type": "markdown",
   "id": "f1907e05-04a1-41c5-90ef-9325fe5442bb",
   "metadata": {},
   "source": [
    "## Drawdowns\n",
    "\n",
    "Calcularemos:\n",
    "- 5 años\n",
    "- 3 años\n",
    "- 1 año"
   ]
  },
  {
   "cell_type": "code",
   "execution_count": null,
   "id": "e9786043-6cfd-4379-aa42-f9a0bc54f68b",
   "metadata": {
    "editable": true,
    "slideshow": {
     "slide_type": ""
    },
    "tags": []
   },
   "outputs": [],
   "source": [
    "each_drawdown: {\n",
    "    ticker1: x`ticker;\n",
    "    initial_date: x`date;\n",
    "    other_date: \"d\"$(initial_date - 365 * y);\n",
    "    limit_date: first (select inception_date from resume_etf where ticker = ticker1)[`inception_date];\n",
    "    \n",
    "    a: $[other_date <= limit_date;\n",
    "        0n;\n",
    "        [\n",
    "            filtered: select date, nav_value from historical \n",
    "                        where ticker = ticker1, date within (other_date; initial_date);\n",
    "            max_value: max filtered`nav_value;\n",
    "            min_value: first (exec min nav_value from filtered \n",
    "                                    where date >= first date where nav_value = max_value);\n",
    "            (max_value - min_value) % max_value\n",
    "        ]\n",
    "    ]\n",
    " }"
   ]
  },
  {
   "cell_type": "markdown",
   "id": "b3f63b14-a687-4904-abc4-a2e9ed964f54",
   "metadata": {
    "editable": true,
    "slideshow": {
     "slide_type": ""
    },
    "tags": []
   },
   "source": [
    "### Drawdown - 5 Years"
   ]
  },
  {
   "cell_type": "code",
   "execution_count": null,
   "id": "a66b7734-9a71-4920-8f89-b2c428c5f70b",
   "metadata": {
    "editable": true,
    "slideshow": {
     "slide_type": ""
    },
    "tags": []
   },
   "outputs": [],
   "source": [
    "historical: update drawdown_5y: {each_drawdown[x;5]} each historical from historical;"
   ]
  },
  {
   "cell_type": "markdown",
   "id": "9d2f9a35-ab7b-46b4-bda7-2a7e79361d88",
   "metadata": {
    "editable": true,
    "slideshow": {
     "slide_type": ""
    },
    "tags": []
   },
   "source": [
    "### Drawdown - 3 Years"
   ]
  },
  {
   "cell_type": "code",
   "execution_count": null,
   "id": "63700eef-117b-416b-ab33-cf716fa68637",
   "metadata": {
    "editable": true,
    "slideshow": {
     "slide_type": ""
    },
    "tags": []
   },
   "outputs": [],
   "source": [
    "historical: update drawdown_3y: {each_drawdown[x;3]} each historical from historical;"
   ]
  },
  {
   "cell_type": "markdown",
   "id": "ec76a095-11c8-4d7f-b96e-88489740041a",
   "metadata": {
    "editable": true,
    "slideshow": {
     "slide_type": ""
    },
    "tags": []
   },
   "source": [
    "### Drawdown - 1 Year"
   ]
  },
  {
   "cell_type": "code",
   "execution_count": null,
   "id": "2dd1b693-5a82-4f62-8140-3d85ff61b132",
   "metadata": {
    "editable": true,
    "slideshow": {
     "slide_type": ""
    },
    "tags": []
   },
   "outputs": [],
   "source": [
    "historical: update drawdown_1y: {each_drawdown[x;1]} each historical from historical;"
   ]
  },
  {
   "cell_type": "markdown",
   "id": "c7867673-f2ae-4ff5-92bf-be5b44f58b90",
   "metadata": {
    "editable": true,
    "slideshow": {
     "slide_type": ""
    },
    "tags": []
   },
   "source": [
    "Finalmente añadimos a la table *resume_etf* los datos calculados por cada etf de los 3 drawdowns."
   ]
  },
  {
   "cell_type": "code",
   "execution_count": null,
   "id": "2341902d-7554-4cf1-b352-e5fb52ca2d01",
   "metadata": {
    "editable": true,
    "slideshow": {
     "slide_type": ""
    },
    "tags": []
   },
   "outputs": [],
   "source": [
    "meta historical"
   ]
  },
  {
   "cell_type": "markdown",
   "id": "391ae2a4-ee8f-47e6-8125-3fd75154be85",
   "metadata": {
    "editable": true,
    "slideshow": {
     "slide_type": ""
    },
    "tags": []
   },
   "source": [
    "## Inflows/Outflows\n",
    "\n",
    "Calculamos las variaciones de valor total de los etf, con la ampliación/salida de dinero en el mercado del etf por la variación mensual de las participaciones en circulación."
   ]
  },
  {
   "cell_type": "code",
   "execution_count": null,
   "id": "94b2ae46-9d7b-418f-a819-076c3e2494ac",
   "metadata": {
    "editable": true,
    "slideshow": {
     "slide_type": ""
    },
    "tags": []
   },
   "outputs": [],
   "source": [
    "historical: `ticker`date xasc historical\n",
    "temp: select last date, last nav_value, last shares by ticker, m:`month$date from historical\n",
    "temp: update in_out_flow_per: 100 * (shares - prev shares) % prev shares,\n",
    "    in_out_flow_val: nav_value * (shares - prev shares)    \n",
    "    by ticker from temp;\n",
    "temp: delete m from temp\n",
    "historical: historical lj `ticker`date`shares xkey temp"
   ]
  },
  {
   "cell_type": "markdown",
   "id": "bf89b4a2-36b8-46b9-9a1d-f129ee6126f0",
   "metadata": {
    "editable": true,
    "slideshow": {
     "slide_type": ""
    },
    "tags": []
   },
   "source": [
    "# Save to Data Warehouse\n",
    "\n",
    "Una vez hemos generado toda la información y las tablas están listas, estas las guardaremos en disco.\n",
    "\n",
    "Esto nos dará esa modularidad y persistencia de los datos para otros procesos futuros, pudiendo acudir a unos  datos ya elaborados y normalizados sin tener que acudir a los datos en bruto del DataLake. \n",
    "\n",
    "Guardaremos nuestras tablas en la carpeta de tablas del Data Warehouse."
   ]
  },
  {
   "cell_type": "markdown",
   "id": "751a7c2f-164e-4845-a06a-938e61f8f80d",
   "metadata": {
    "editable": true,
    "slideshow": {
     "slide_type": ""
    },
    "tags": []
   },
   "source": [
    "### Guardado como Binarios"
   ]
  },
  {
   "cell_type": "code",
   "execution_count": null,
   "id": "334517cb-7a0b-467b-a1c4-8399aeadd40f",
   "metadata": {
    "editable": true,
    "slideshow": {
     "slide_type": ""
    },
    "tags": []
   },
   "outputs": [],
   "source": [
    "\\ts `:Data/DataWarehouse/Tables/historical set historical\n",
    "\\ts `:Data/DataWarehouse/Tables/resume_etf set resume_etf"
   ]
  },
  {
   "cell_type": "code",
   "execution_count": null,
   "id": "d89ee62e-eee8-469a-bfb0-1e29299d2ad9",
   "metadata": {},
   "outputs": [],
   "source": [
    "meta resume_etf"
   ]
  },
  {
   "cell_type": "markdown",
   "id": "f6e0ae5d-37d9-48a1-82b0-246b87edb322",
   "metadata": {
    "editable": true,
    "slideshow": {
     "slide_type": ""
    },
    "tags": []
   },
   "source": [
    "### Guardado Particionado"
   ]
  },
  {
   "cell_type": "code",
   "execution_count": null,
   "id": "e1743747-c2b7-467c-90fe-7a140496a1df",
   "metadata": {
    "editable": true,
    "slideshow": {
     "slide_type": ""
    },
    "tags": []
   },
   "outputs": [],
   "source": [
    "\\ Tenemos que particionar y crear un enum diferenciado para todos los simbolos\n",
    "\\ts `:Data/DataWarehouse/Tables/historicalSplayed/historical/ set \n",
    "    .Q.en[`:Data/DataWarehouse/Tables/historicalSplayed/] historical;"
   ]
  },
  {
   "cell_type": "code",
   "execution_count": null,
   "id": "bbc0e67b-8c75-4854-a4b8-cca9e4db1bbe",
   "metadata": {
    "editable": true,
    "slideshow": {
     "slide_type": ""
    },
    "tags": []
   },
   "outputs": [],
   "source": [
    "\\ts `:Data/DataWarehouse/Tables/resume_etfSplayed/resume_etf set \n",
    "    .Q.enxs[`:Data/DataWarehouse/Tables/resume_etfSplayed/] resume_etf;"
   ]
  },
  {
   "cell_type": "markdown",
   "id": "1561164f-03da-4ab4-b551-72a6fe467f14",
   "metadata": {
    "editable": true,
    "slideshow": {
     "slide_type": ""
    },
    "tags": []
   },
   "source": [
    "# Data Analysis: \"The Ideal Conditions for ETFs to invest in!\"\n",
    "\n",
    "La idea es analizar los datos recopilados y poder acotar bajo que *parámetros/características* nuestros etf se comportan de cierto modo. \n",
    "\n",
    "Intentaremos agrupar y de una manera estimar:\n",
    "\n",
    "> - ¿Cómo es la volatilidad o los drawdowns cuando llego a pérdidas superiores al 25%?\n",
    "> - ¿Y por otro lado, cómo es esa volatilidad o drawdown cuando llego a beneficios superiores al 25%?\n",
    "\n",
    "El objetivo: **Poder hacer prediciones con los datos a día de hoy que nos permita a partir de poder agrupar y estimar esos valores con la intención de MINIMIZAR EL RIESGO con compras/ventas.**\n",
    "\n",
    "Nos encontramos ahora con unas tablas enriquecidas con mucha información de la siguiente manera:\n",
    "\n",
    "> Tabla **Historical**: A parte de las ya existentes **date**, **nav_value**, **shares**, **ticker** se añade:\n",
    "> - ***Daily Returns***: El aumento/pérdida de valor de manera % de un ETF respecto al dato previo.\n",
    "> - ***Volatility: 5y,3y,1y,6m,3m***: La volatilidad de los precios del ETF en esos periodos previos de cada registro histórico.\n",
    "> - ***Performance: 5y,3y,1y,6m,3m***: La variación del valor del ETF en esos periodos **próximos** de cada registro histórico.\n",
    "> - ***Drawdowns: 5y,3y,1y***; La caída máxima del precio de cotización en esos periodos previos de cada registro histórico.\n",
    "> - ***SMA 200 Days***: El cálculo de la medía móvil de los últimos 200 días por cada ETF.\n",
    "> - ***SMA 200 Months***: El cálculo de la medía móvil de los últimos 200 meses(último dato del mes disponible) por cada ETF.\n",
    "> - ***Inflows/Outflows %***: Las entradas/salidas de dinero a nuestro ETF de manera mensual, con la ampliación/reducción de participaciones(shares) disponibles en el mercado.\n",
    "> - ***Inflows/Outflows Value***: El valor en $ de la variación de participaciones en el mercado mensual.\n",
    "\n",
    "> Tabla **Resume**: A parte de las ya existentes **ticker**, **inception_date**, **net_assets**, **equity_class**, **region**, **market** se añade:\n",
    "> - ***Maximum/Minimum:*** Las fechas de cada ETF donde se alcanza esos valores."
   ]
  },
  {
   "cell_type": "markdown",
   "id": "bb4dd6b2-3403-42ce-a0ce-8d4036dbe638",
   "metadata": {
    "editable": true,
    "slideshow": {
     "slide_type": ""
    },
    "tags": []
   },
   "source": [
    "Para ello usaremos el [visual](/dataAnalytics.ipynb), donde estudiaremos estas cuestiones en profundidad y generaremos visuales."
   ]
  }
 ],
 "metadata": {
  "kernelspec": {
   "display_name": "Q (kdb+)",
   "language": "q",
   "name": "qpk"
  },
  "language_info": {
   "file_extension": ".q",
   "mimetype": "text/x-q",
   "name": "q",
   "version": "4.1.0"
  }
 },
 "nbformat": 4,
 "nbformat_minor": 5
}
