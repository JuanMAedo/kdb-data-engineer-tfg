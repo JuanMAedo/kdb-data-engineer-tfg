{
 "cells": [
  {
   "cell_type": "markdown",
   "id": "65045603-ebd7-46b7-84cf-d652f706424f",
   "metadata": {},
   "source": [
    "# Carga de Datos\n",
    "\n",
    "Hacemos distincción para posible estudio de rendimientos en la forma de guardado en disco y su lectura."
   ]
  },
  {
   "cell_type": "markdown",
   "id": "d1a40c6e-aff6-4ebd-aba9-766abf5ab7b5",
   "metadata": {},
   "source": [
    "#### Carga Desde Binarios"
   ]
  },
  {
   "cell_type": "code",
   "execution_count": null,
   "id": "4f192dc2-2dfc-4750-a0a3-5a16b3bba9f2",
   "metadata": {},
   "outputs": [],
   "source": [
    "\\ts historical: get `:Data/DataWarehouse/Tables/historical"
   ]
  },
  {
   "cell_type": "code",
   "execution_count": null,
   "id": "a584bb09-82d3-41e7-b31f-f92dc4d8dfb2",
   "metadata": {},
   "outputs": [],
   "source": [
    "\\ts resume_etf: get `:Data/DataWarehouse/Tables/resume_etf"
   ]
  },
  {
   "cell_type": "markdown",
   "id": "a8122ed0-5e92-4b7e-9f98-5383a30e542c",
   "metadata": {},
   "source": [
    "#### Carga Desde Tablas Splayed"
   ]
  },
  {
   "cell_type": "code",
   "execution_count": null,
   "id": "cfb65852-cae4-4b4c-b7f1-78b63ffc2f42",
   "metadata": {},
   "outputs": [],
   "source": [
    "\\ts load `:Data/DataWarehouse/Tables/historicalSplayed/sym;\n",
    "\\ts historicalS: get `:Data/DataWarehouse/Tables/historicalSplayed/historical"
   ]
  },
  {
   "cell_type": "code",
   "execution_count": null,
   "id": "dad7e390-8ed0-4ba8-b397-139d65538147",
   "metadata": {},
   "outputs": [],
   "source": [
    "\\ts load `:Data/DataWarehouse/Tables/resume_etfSplayed/sym;\n",
    "\\ts resume_etfS: get `:Data/DataWarehouse/Tables/resume_etfSplayed/resume_etf"
   ]
  },
  {
   "cell_type": "markdown",
   "id": "128fd8a7-a36a-4d0d-a9e1-70053a8a398a",
   "metadata": {},
   "source": [
    "# Cálculos"
   ]
  },
  {
   "cell_type": "markdown",
   "id": "0a61c94e-5256-4130-aeda-3a7c2f55b132",
   "metadata": {},
   "source": [
    "# Visualización de Datos\n",
    "\n",
    "Para este apartado usaremos las sinergias entre KDB+/Q y Python, que al usar Jupyter Notebook se nos facilita aún más esa integración.\n",
    "\n",
    "Usaremos el módulo y biblioteca por excelencia para esta representación gráfica en Python, [Matplotlib](https://matplotlib.org/stable/)."
   ]
  },
  {
   "cell_type": "markdown",
   "id": "6e558f88-10b0-4d63-bcf2-f2a78d5f76f7",
   "metadata": {},
   "source": [
    "En primer lugar cargaremos en las variables **plt** y **mdates** los módulos de Python más usados para la representación gráfica y manipulación de fechas."
   ]
  },
  {
   "cell_type": "code",
   "execution_count": null,
   "id": "c249bbfb-65dd-43c1-83bf-1212b1e8f5b8",
   "metadata": {},
   "outputs": [],
   "source": [
    "\\l p.q\n",
    "plt:.p.import[`matplotlib;`:pyplot]\n",
    "mdates:.p.import[`matplotlib;`:dates]\n",
    "system \"pip install -r requirements.txt\""
   ]
  },
  {
   "cell_type": "code",
   "execution_count": null,
   "id": "cceb822f-2512-4a09-a621-652a78b4447d",
   "metadata": {},
   "outputs": [],
   "source": [
    "etfs: exec ticker from resume_etf"
   ]
  },
  {
   "cell_type": "code",
   "execution_count": null,
   "id": "d5e38342-e505-4e9d-bd3a-a7f57c9ae04c",
   "metadata": {},
   "outputs": [],
   "source": [
    "vol_x:{[ETF]\n",
    "    string each (select date from historical where ticker=ETF, daily_retns <>0N)`date\n",
    " }\n",
    "vol_y:{[ETF]\n",
    "    exec daily_retns from historical where ticker=ETF, daily_retns<> 0N\n",
    " }\n"
   ]
  },
  {
   "cell_type": "code",
   "execution_count": null,
   "id": "72c6b186-74d6-43e7-861a-cc435bcb4f61",
   "metadata": {},
   "outputs": [],
   "source": [
    "count select date,daily_1yvol from historical where ticker=`EWJ, daily_1yvol < 0.1"
   ]
  },
  {
   "cell_type": "code",
   "execution_count": null,
   "id": "92db02f8-deee-4725-9c58-cbb05463f711",
   "metadata": {},
   "outputs": [],
   "source": [
    "daily_return:{ [ETFa]\n",
    "\n",
    "    plt[`:figure][(`figsize);(22;14)];\n",
    "    plt[`:plot][vol_x[ETFa];vol_y[ETFa];\"r+\"];\n",
    "    plt[`:axhline][exec varianza from res where ticker=ETFa];\n",
    "    ax: plt[`:gca][];\n",
    "    ax[`:xaxis][`:set_major_locator][mdates[`:AutoDateLocator][]];\n",
    "    plt[`:xticks][;][;][(`rotation;45)];\n",
    "    plt[`:gcf][][`:autofmt_xdate][];  \n",
    "    title: \"DAILY RETURN - \",(string ETFa);\n",
    "    plt[`:title][title];\n",
    "    plt[`:xlabel][\"DATE\"];\n",
    "    plt[`:ylabel][\"VALUE UP/DOWN\"];\n",
    "    plt[`:legend][(\"DAILY\";\"0\")];\n",
    "    plt[`:show][];\n",
    "    plt[`:clf][];\n",
    " };\n",
    "{daily_return[x]} each etfs;"
   ]
  },
  {
   "cell_type": "code",
   "execution_count": null,
   "id": "3a247782-a344-4b2f-a81f-54de202708d1",
   "metadata": {},
   "outputs": [],
   "source": [
    "disp_vol:{ [ETFa]\n",
    "    plt[`:figure][(`figsize);(22;14)];\n",
    "    plt[`:plot][vol_x1y[ETFa];vol_y1y[ETFa];\"r-\"];\n",
    "    plt[`:plot][vol_x[ETFa];vol_y[ETFa];\"b+\"];\n",
    "    ax: plt[`:gca][];\n",
    "    ax[`:xaxis][`:set_major_locator][mdates[`:AutoDateLocator][]];\n",
    "    plt[`:xticks][;][;][(`rotation;45)];\n",
    "    plt[`:gcf][][`:autofmt_xdate][];  \n",
    "    title: \"DAILY RETURN - \",(string ETFa);\n",
    "    plt[`:title][title];\n",
    "    plt[`:xlabel][\"DATE\"];\n",
    "    plt[`:ylabel][\"VALUE UP/DOWN\"];\n",
    "    plt[`:legend][(\"DAILY\";\"0\")];\n",
    "    plt[`:show][];\n",
    "    plt[`:clf][];\n",
    " }\n",
    "{disp_vol[x]} each etfs;"
   ]
  },
  {
   "cell_type": "code",
   "execution_count": null,
   "id": "3781b708-c245-45c4-97cd-ee53d2bc7965",
   "metadata": {},
   "outputs": [],
   "source": [
    "daily_vol:{ [ETFa]\n",
    "\n",
    "    plt[`:figure][(`figsize);(22;14)];\n",
    "\n",
    "    plt[`:plot][vol_x1y[ETFa];vol_y1y[ETFa];\"r\"];\n",
    "    plt[`:plot][vol_x5y[ETFa];vol_y5y[ETFa];\"b\"];\n",
    "    plt[`:plot][ax_x[ETFa];ax_y[ETFa];\"g\"];\n",
    "\n",
    "    ax: plt[`:gca][];\n",
    "    ax[`:xaxis][`:set_major_locator][mdates[`:AutoDateLocator][]];\n",
    "    plt[`:xticks][;][;][(`rotation;45)];\n",
    "    plt[`:gcf][][`:autofmt_xdate][];  \n",
    "    title: \"DAILY RETURN - \",(string ETFa);\n",
    "    plt[`:title][title];\n",
    "    plt[`:xlabel][\"DATE\"];\n",
    "    plt[`:ylabel][\"VALUE UP/DOWN\"];\n",
    "    plt[`:legend][(\"DAILY\";\"0\")];\n",
    "    plt[`:show][];\n",
    "    plt[`:clf][];\n",
    " }\n",
    "{daily_vol[x]} each etfs;"
   ]
  },
  {
   "cell_type": "code",
   "execution_count": null,
   "id": "0e955604-d783-4c52-867b-510da2531610",
   "metadata": {},
   "outputs": [],
   "source": [
    "ax_x:{[ETF]\n",
    "    string each (select date from historical where ticker=ETF)`date\n",
    " }\n",
    "ax_y:{[ETF]\n",
    "    (select nav_value from historical where ticker=ETF)`nav_value    \n",
    " }\n",
    "vol_x5y:{[ETF]\n",
    "    string each (select date from historical where ticker=ETF, daily_5yvol <>0n)`date\n",
    " }\n",
    "vol_y5y:{[ETF]\n",
    "    (select daily_5yvol from historical where ticker=ETF, daily_5yvol <> 0n)`daily_5yvol    \n",
    " }\n",
    "vol_x1y:{[ETF]\n",
    "    string each (select date from historical where ticker=ETF, daily_1yvol <>0n)`date\n",
    " }\n",
    "vol_y1y:{[ETF]\n",
    "    (select daily_1yvol from historical where ticker=ETF, daily_1yvol <>0n)`daily_1yvol    \n",
    " }\n"
   ]
  },
  {
   "cell_type": "code",
   "execution_count": null,
   "id": "9008162c-0fd6-4542-b638-ff95e280193c",
   "metadata": {},
   "outputs": [],
   "source": [
    "meta historical"
   ]
  },
  {
   "cell_type": "markdown",
   "id": "0bacf77c-fced-422d-a3e1-f2442e86e7ae",
   "metadata": {},
   "source": [
    "### Generación de Gráficos Históricos y de Variación de Volumen"
   ]
  },
  {
   "cell_type": "code",
   "execution_count": null,
   "id": "43682704-a6f2-4661-a515-eb63be6ea824",
   "metadata": {},
   "outputs": [],
   "source": [
    "\\l QFunctions/graphics.q\n",
    "\\l QFunctions/queries.q\n",
    "etfs: exec ticker from resume_etf\n",
    "/\n",
    "{in_outflow_g_F[x;2020.01.01]} each etfs;\n",
    "{historical_g_F[x;2020.01.01]} each etfs;\n",
    "{in_outflow_g[x]} each etfs;\n",
    "{historical_g[x]} each etfs;\n",
    "\\"
   ]
  },
  {
   "cell_type": "code",
   "execution_count": null,
   "id": "c9be5d20-aa97-4a44-ac10-4f333ff0c4c0",
   "metadata": {},
   "outputs": [],
   "source": [
    "{in_outflow_g_F[x;2020.01.01]} each etfs;"
   ]
  },
  {
   "cell_type": "code",
   "execution_count": null,
   "id": "30b3be37-4068-44ef-91f4-a1b7d0f7cba1",
   "metadata": {},
   "outputs": [],
   "source": [
    "{historical_g_F[x;2020.01.01]} each etfs;"
   ]
  },
  {
   "cell_type": "code",
   "execution_count": null,
   "id": "07f17312-0724-46cc-a708-26660fd9d73e",
   "metadata": {},
   "outputs": [],
   "source": [
    "{in_outflow_g[x]} each etfs;"
   ]
  },
  {
   "cell_type": "code",
   "execution_count": null,
   "id": "eb539f5b-b078-45da-8864-2d58b7d1a63d",
   "metadata": {},
   "outputs": [],
   "source": [
    "{historical_g[x]} each etfs;"
   ]
  },
  {
   "cell_type": "code",
   "execution_count": null,
   "id": "5e0cc62e-80aa-4b75-869b-832e9af0b273",
   "metadata": {},
   "outputs": [],
   "source": [
    "// FUNCION PARA PROBAR ELEMENTOS DE MATPLOTLIB\n",
    "/\n",
    "plt[`:figure][(`figsize);(22;14)]; \n",
    "plt[`:plot][vol_x[`EWA];vol_y[`EWA];\"o\"];\n",
    "ax: plt[`:gca][];\n",
    "\n",
    "ax[`:xaxis][`:set_major_locator][mdates[`:AutoDateLocator][]];\n",
    "plt[`:xticks][;][;][(`rotation;45)];\n",
    "plt[`:gcf][][`:autofmt_xdate][];  \n",
    "\n",
    "title: \"DAILY RETURN - \",(string `EWA);\n",
    "plt[`:title][title];\n",
    "plt[`:xlabel][\"DATE\"];\n",
    "plt[`:ylabel][\"VALUE UP/DOWN\"]; \n",
    "plt[`:legend][(\"DAILY\")];\n",
    "plt[`:show][];\n",
    "plt[`:clf][];\n",
    "\\\n"
   ]
  },
  {
   "cell_type": "markdown",
   "id": "89b77602-c83d-4dab-bd57-9231164572fa",
   "metadata": {},
   "source": [
    "# Modelo de Estrategia de Inversión en ETFs\n",
    "\n",
    "En este apartado realizaremos el soporte para la elección de ETF.\n",
    "\n",
    "En el anterior Notebook hemos realizado todos los cálculos necesarios para ahora poder selecionar y evaluar los ETF para nuestra cartera.\n",
    "\n",
    "La técnica de selección, ponderación, etf es motivado por mi TFG de Administración de Empresas y los motivos de elección de cada apartado está explicado en él.\n"
   ]
  },
  {
   "cell_type": "markdown",
   "id": "c18cb9f3-5361-48a4-b757-a7cb06a95a7d",
   "metadata": {},
   "source": [
    "## Benchmark por Categoría\n",
    "\n",
    "Se realizará el mismo benchmark para todos los ETF de la misma manera. Para poder conseguir el *Riesgo Diversificado* el mejor resultado por categoría:\n",
    "> - **Mercado** en el que opera.\n",
    "> - **Región** en la que opera.\n",
    "> - **Clase de Equity** del que está compuesto el ETF."
   ]
  },
  {
   "cell_type": "markdown",
   "id": "e712d033-6c18-4631-a0f1-b8c5aa961636",
   "metadata": {},
   "source": [
    "## Benchmark para Modelo de Inversión"
   ]
  },
  {
   "cell_type": "markdown",
   "id": "08ef7e77-3a7c-4ad1-9f60-8be506715bf2",
   "metadata": {},
   "source": [
    "Se dará una valoración a cada elemento de:\n",
    "- Tendencia del Mercado respecto a su SMA: **?%**\n",
    "- Tendencia de Valoración respecto a su mSMA: **?%**\n",
    "- Volatilidad a 1 año: **?%**\n",
    "- Volatilidad a 6 meses: **?%**\n",
    "- Volatilidad a 3 meses: **?%**\n",
    "- Correlación Inflow/Outflow con Nav_Value: **?%**\n",
    "- Distancia Temporal de su máximo + % valor actual respecto a él: **?%**\n",
    "- Distancia Temporal de su mínimo + % valor actual respecto a él: **?%**\n",
    "- Rendimiento los 5 años: **?%**\n",
    "- Rendimiento los 1 año: **?%**\n",
    "- Rendimiento los 6 meses: **?%**\n",
    "- Drawdown a 5 años: **?%**\n",
    "- Drawdown a 1 año: **?%**\n",
    "- Drawdown a 6 mesess: **?%**"
   ]
  },
  {
   "cell_type": "code",
   "execution_count": null,
   "id": "baef90b0-200e-457c-b258-95481ec41ead",
   "metadata": {},
   "outputs": [],
   "source": [
    "calc_cor_all: {\n",
    " t1: exec ticker from resume_etf;\n",
    " p1: exec nav_value by ticker from historical where in_out_flow_per <> 0N;\n",
    " io1: exec in_out_flow_per by ticker from historical where in_out_flow_per <> 0N;\n",
    " c1: {p1[x] cor io1[x]} each t1;\n",
    " flip `ticker`correAll!((t1; c1))\n",
    " }"
   ]
  },
  {
   "cell_type": "code",
   "execution_count": null,
   "id": "e00221bf-d809-4e5d-800e-4cfdc00b61b6",
   "metadata": {},
   "outputs": [],
   "source": [
    "calc_cor_all[]"
   ]
  },
  {
   "cell_type": "code",
   "execution_count": null,
   "id": "1a4ba33b-e870-4567-aeeb-fb2e980beff7",
   "metadata": {},
   "outputs": [],
   "source": [
    "calc_cor_F:{[D_FILT];\n",
    "  t: exec ticker from resume_etf;\n",
    "  p: exec nav_value by ticker from historical where in_out_flow_per <> 0N,date>D_FILT;\n",
    "  out: exec in_out_flow_per by ticker from historical where in_out_flow_per <> 0N,date > D_FILT;\n",
    "  c: { p[x] cor out[x] } each t;\n",
    "  flip `ticker`correDate!((t ; out))\n",
    " }\n",
    "calc_cor_F[2020.01.01]"
   ]
  },
  {
   "cell_type": "code",
   "execution_count": null,
   "id": "2acc87b6-bf01-4a91-a8f3-7c0a2660c5c3",
   "metadata": {},
   "outputs": [],
   "source": [
    "table:()\n",
    "table: update ticker: ticker from select ticker from resume_etf;\n",
    "t: exec ticker from table;"
   ]
  },
  {
   "cell_type": "code",
   "execution_count": null,
   "id": "bed4d3a3-830e-4142-9443-cb713e609412",
   "metadata": {},
   "outputs": [],
   "source": [
    "p: exec nav_value by ticker from historical where in_out_flow_per <> 0N;\n",
    "io: exec in_out_flow_per by ticker from historical where in_out_flow_per <> 0N;\n",
    "table: update corr_all: (table lj `ticker xkey (flip `ticker`correAll!((t; {p[x] cor io[x]} each t))))`correAll from table"
   ]
  },
  {
   "cell_type": "code",
   "execution_count": null,
   "id": "999dd99d-5769-4ba2-9c72-613d273f9fbd",
   "metadata": {},
   "outputs": [],
   "source": [
    "p: exec nav_value by ticker from historical where in_out_flow_per <> 0N,date>2019.09.01;\n",
    "io: exec in_out_flow_per by ticker from historical where in_out_flow_per <> 0N,date > 2019.09.01;\n",
    "table: update corr_5y: (table lj `ticker xkey (flip `ticker`correDate!((t; {p[x] cor io[x]} each t))))`correDate from table"
   ]
  },
  {
   "cell_type": "code",
   "execution_count": null,
   "id": "57b14629-8c12-4c51-860a-4881a45a9c78",
   "metadata": {},
   "outputs": [],
   "source": [
    "table"
   ]
  },
  {
   "cell_type": "markdown",
   "id": "066f7e8f-34f8-46b2-8615-3ef0d93966c0",
   "metadata": {},
   "source": [
    "# Extras + info futuro\n"
   ]
  },
  {
   "cell_type": "code",
   "execution_count": null,
   "id": "6a96cb2f-e36d-4946-952a-67bf63fd423b",
   "metadata": {},
   "outputs": [],
   "source": [
    "count select ticker from resume_etf where market = `$\"Developed\"\n",
    "select from historical where ticker = `EWA, m200sma <> 0N\n",
    "count select ticker from resume_etf where market = `Emerging\n",
    "\n",
    "//Filtrado  mezclando las dos tablas\n",
    "select from historical where ticker in exec ticker from resume_etf where market = `$\"Emerging\"\n",
    "//Lo mismo\n",
    "show a: select ticker from resume_etf where market = `$\"Developed\"\n",
    "select from historical where ticker in a[`ticker]\n",
    "\n",
    "select distinct equity_class from resume_etf\n",
    "select distinct region from resume_etf\n",
    "\n",
    "//maximo aumento\n",
    "select from historical where daily_retns=(max; daily_retns) fby ticker"
   ]
  }
 ],
 "metadata": {
  "kernelspec": {
   "display_name": "Q (kdb+)",
   "language": "q",
   "name": "kdb_kernel"
  },
  "language_info": {
   "file_extension": ".q",
   "mimetype": "text/x-q",
   "name": "q",
   "version": "4.1.0"
  }
 },
 "nbformat": 4,
 "nbformat_minor": 5
}
