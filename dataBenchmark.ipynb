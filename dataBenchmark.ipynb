{
 "cells": [
  {
   "cell_type": "markdown",
   "id": "65045603-ebd7-46b7-84cf-d652f706424f",
   "metadata": {},
   "source": [
    "# Carga de Datos\n",
    "\n",
    "Hacemos distincción para posible estudio de rendimientos en la forma de guardado en disco y su lectura."
   ]
  },
  {
   "cell_type": "markdown",
   "id": "d1a40c6e-aff6-4ebd-aba9-766abf5ab7b5",
   "metadata": {},
   "source": [
    "## Carga Desde Binarios"
   ]
  },
  {
   "cell_type": "code",
   "execution_count": null,
   "id": "4f192dc2-2dfc-4750-a0a3-5a16b3bba9f2",
   "metadata": {},
   "outputs": [],
   "source": [
    "\\ts historical: get `:Data/DataWarehouse/Tables/historical"
   ]
  },
  {
   "cell_type": "code",
   "execution_count": null,
   "id": "a584bb09-82d3-41e7-b31f-f92dc4d8dfb2",
   "metadata": {},
   "outputs": [],
   "source": [
    "\\ts resume_etf: get `:Data/DataWarehouse/Tables/resume_etf"
   ]
  },
  {
   "cell_type": "markdown",
   "id": "a8122ed0-5e92-4b7e-9f98-5383a30e542c",
   "metadata": {},
   "source": [
    "## Carga Desde Tablas Splayed"
   ]
  },
  {
   "cell_type": "code",
   "execution_count": null,
   "id": "cfb65852-cae4-4b4c-b7f1-78b63ffc2f42",
   "metadata": {},
   "outputs": [],
   "source": [
    "\\ts load `:Data/DataWarehouse/Tables/historicalSplayed/sym;\n",
    "\\ts historicalS: get `:Data/DataWarehouse/Tables/historicalSplayed/historical"
   ]
  },
  {
   "cell_type": "code",
   "execution_count": null,
   "id": "dad7e390-8ed0-4ba8-b397-139d65538147",
   "metadata": {},
   "outputs": [],
   "source": [
    "\\ts load `:Data/DataWarehouse/Tables/resume_etfSplayed/sym;\n",
    "\\ts resume_etfS: get `:Data/DataWarehouse/Tables/resume_etfSplayed/resume_etf"
   ]
  },
  {
   "cell_type": "code",
   "execution_count": null,
   "id": "5d39ae15-ab15-4dfb-8bc5-08dbdb1a3f1e",
   "metadata": {},
   "outputs": [],
   "source": [
    "meta historical\n",
    "meta historicalS\n",
    "meta resume_etf\n",
    "meta resume_etfS"
   ]
  },
  {
   "cell_type": "markdown",
   "id": "0a61c94e-5256-4130-aeda-3a7c2f55b132",
   "metadata": {},
   "source": [
    "# Visualización de Datos\n"
   ]
  },
  {
   "cell_type": "markdown",
   "id": "7b4b9b4a-1eb2-4f08-9afa-894f4dac7900",
   "metadata": {},
   "source": [
    "\n",
    "Para este apartado usaremos las sinergias entre KDB+/Q y Python, que al usar Jupyter Notebook se nos facilita aún más esa integración.\n",
    "\n",
    "Usaremos el módulo y biblioteca por excelencia para esta representación gráfica en Python, [Matplotlib](https://matplotlib.org/stable/)."
   ]
  },
  {
   "cell_type": "markdown",
   "id": "6e558f88-10b0-4d63-bcf2-f2a78d5f76f7",
   "metadata": {},
   "source": [
    "En caso de no ejecutar el anterior notebook, también reinstalaremos las dependencias.\n",
    "\n",
    "En primer lugar cargaremos en las variables **plt** y **mdates** los módulos de Python más usados para la representación gráfica y manipulación de fechas."
   ]
  },
  {
   "cell_type": "code",
   "execution_count": null,
   "id": "c249bbfb-65dd-43c1-83bf-1212b1e8f5b8",
   "metadata": {},
   "outputs": [],
   "source": [
    "\\l p.q\n",
    "\n",
    "system \"pip install -r requirements.txt\"\n",
    "\n",
    "plt:.p.import[`matplotlib;`:pyplot]\n",
    "mdates:.p.import[`matplotlib;`:dates]"
   ]
  },
  {
   "cell_type": "markdown",
   "id": "7bebeaab-393b-48d9-af6a-a22a79426a61",
   "metadata": {},
   "source": [
    "Cargaremos la variable de **etfs**, como la lista de todos los etfs disponibles, de cara a ejecutar funciones a todos los etfs.\n",
    "\n",
    "Posteriormente usaremos otras consultas para filtrar los etfs según características."
   ]
  },
  {
   "cell_type": "code",
   "execution_count": null,
   "id": "cceb822f-2512-4a09-a621-652a78b4447d",
   "metadata": {},
   "outputs": [],
   "source": [
    "etfs: exec ticker from resume_etf"
   ]
  },
  {
   "cell_type": "markdown",
   "id": "521a8ca9-c70a-48a4-bf08-91afb68be09c",
   "metadata": {},
   "source": [
    "Para la generación de gráficos, estudios de momentos de los históricos y otros fines, haremos uso del módulo de *QFunctions/**queries.q***, donde se encuentra una rista importante de queries según el valor a calcular. Para ello usaremos la carga a este notebook como un script.\n",
    "\n",
    "En KDB+/Q no tenemos manera de ver en la carga las funciones que se carga en la sesión, por lo que usaremos una variable y veremos las diferencias entre las disponibles previa y posterior a la carga."
   ]
  },
  {
   "cell_type": "code",
   "execution_count": null,
   "id": "b55bef48-5bbb-44a6-92d5-eeacea2b5270",
   "metadata": {},
   "outputs": [],
   "source": [
    "show initialSymbols: string each key `.\n",
    "\n",
    "// Cargar las funciones donde están guardadas las Queries\n",
    "\\l QFunctions/queries.q\n",
    "\n",
    "show loadedSymbols: string each key `."
   ]
  },
  {
   "cell_type": "markdown",
   "id": "0bacf77c-fced-422d-a3e1-f2442e86e7ae",
   "metadata": {
    "editable": true,
    "slideshow": {
     "slide_type": ""
    },
    "tags": []
   },
   "source": [
    "## Generación de Gráficos Históricos y de Variación de Volumen"
   ]
  },
  {
   "cell_type": "markdown",
   "id": "327b6339-c772-4629-a59e-59f555b4c187",
   "metadata": {},
   "source": [
    "Al igual que las queries, para representar esa información usaremos el módulo de *QFunctions/**graphics.q***, que usa las funciones de queries para representar las gráficas, ademas del uso de las bibliotecas de dates y matplotlib de Python, como antes hemos comentado. "
   ]
  },
  {
   "cell_type": "code",
   "execution_count": null,
   "id": "43682704-a6f2-4661-a515-eb63be6ea824",
   "metadata": {},
   "outputs": [],
   "source": [
    "\\l QFunctions/graphics.q"
   ]
  },
  {
   "cell_type": "markdown",
   "id": "ab4442eb-38be-4afd-8b5a-60c57a891634",
   "metadata": {},
   "source": [
    "Ahora podremos estudiar elementos como el inflow/outflow de los etfs, generando los gráficos. Cómo hemos indicado, podemos hacerlo de todos los ETFs usando la variable etf en un iterador o generar una nueva."
   ]
  },
  {
   "cell_type": "code",
   "execution_count": null,
   "id": "d1bf6bf4-5a16-4bce-aa00-497497e32017",
   "metadata": {},
   "outputs": [],
   "source": [
    "{in_outflow_g_F[x;2020.01.01]} each etfs;\n",
    "{in_outflow_g_F[x;2020.01.01]} each (exec ticker from resume_etf where region=`$\"Europe\");"
   ]
  },
  {
   "cell_type": "code",
   "execution_count": null,
   "id": "8029122c-781b-4127-a667-31f1c924ca84",
   "metadata": {},
   "outputs": [],
   "source": [
    "2020.01.01"
   ]
  },
  {
   "cell_type": "code",
   "execution_count": null,
   "id": "30b3be37-4068-44ef-91f4-a1b7d0f7cba1",
   "metadata": {},
   "outputs": [],
   "source": [
    "{historical_g_F[x;2020.01.01]} each etfs;"
   ]
  },
  {
   "cell_type": "markdown",
   "id": "4224d463-2133-4d40-84bb-9a4b7e366fa1",
   "metadata": {},
   "source": [
    "### Generación de Volúmes de Emisión y Recompra: Infolws/Outflows"
   ]
  },
  {
   "cell_type": "code",
   "execution_count": null,
   "id": "07f17312-0724-46cc-a708-26660fd9d73e",
   "metadata": {},
   "outputs": [],
   "source": [
    "{in_outflow_g[x]} each etfs;"
   ]
  },
  {
   "cell_type": "markdown",
   "id": "cc45e9a9-b53b-4416-a4d9-d12f2170e802",
   "metadata": {},
   "source": [
    "### Generación de Históricos + Medias Móviles"
   ]
  },
  {
   "cell_type": "code",
   "execution_count": null,
   "id": "eb539f5b-b078-45da-8864-2d58b7d1a63d",
   "metadata": {},
   "outputs": [],
   "source": [
    "{historical_g[x]} each etfs;"
   ]
  },
  {
   "cell_type": "markdown",
   "id": "89b77602-c83d-4dab-bd57-9231164572fa",
   "metadata": {},
   "source": [
    "# Modelo de Estrategia de Inversión en ETFs\n",
    "\n",
    "En este apartado realizaremos el soporte para la elección de ETF.\n",
    "\n",
    "En el anterior Notebook hemos realizado todos los cálculos necesarios para ahora poder selecionar y evaluar los ETF para nuestra cartera.\n",
    "\n"
   ]
  },
  {
   "cell_type": "markdown",
   "id": "c18cb9f3-5361-48a4-b757-a7cb06a95a7d",
   "metadata": {},
   "source": [
    "## Generación de nueva tabla para guardar Volatilidades y Drawdowns\n",
    "\n",
    "Se realizará un estudio sobre los históricos con un claro objetivo: El mercado es cíclico y repetitivo, por lo que se buscará encontrar los valores que tenían los momentos previos a tener grandes caídas o grandes subidas.\n",
    "\n",
    "Para ello se tratará de agrupar y visualizar los datos para responder a estas dos preguntas:\n",
    "> - ¿Qué valores tenía el drawdowns acumulados o las volatilidades cuando se alcanza el **20% o más de PÉRDIDAS acumuladas**?\n",
    "> - ¿Qué valores tenía el drawdowns acumulados o las volatilidades cuando se alcanza el **20% o más de BENEFICIOS acumulados**?"
   ]
  },
  {
   "cell_type": "code",
   "execution_count": null,
   "id": "923dd1bd-4721-44ed-97f4-c91da54077aa",
   "metadata": {
    "editable": true,
    "slideshow": {
     "slide_type": ""
    },
    "tags": []
   },
   "outputs": [],
   "source": [
    "table_losses: ([ticker:`$();date:`date$();elem:`$()]vol5y:`float$();\n",
    "                vol3y:`float$(); vol1y:`float$(); vol6m:`float$(); vol3m:`float$();\n",
    "                drawdown5y:`float$(); drawdown3y:`float$(); drawdown1y:`float$())\n",
    "\n",
    "table_profits: ([ticker:`$();date:`date$();elem:`$()];vol5y:`float$();\n",
    "                vol3y:`float$(); vol1y:`float$(); vol6m:`float$(); vol3m:`float$();\n",
    "                drawdown5y:`float$(); drawdown3y:`float$(); drawdown1y:`float$())"
   ]
  },
  {
   "cell_type": "markdown",
   "id": "75a5737e-a65a-45a1-bd8a-1254eacb6afe",
   "metadata": {},
   "source": [
    "En nuestro caso estudiaremos a partir del 20%, pero se podría modificar ese %.\n",
    "\n",
    "Crearemos 2 tablas y 2 funciones, muy parecidas. En ambos casos tenemos el valor elem, donde guardaremos un símbolo que significara:\n",
    "> - ***`p5y***: Hay una ganancia/pérdida acumulada del 20% en los últimos 5 años desde hasta día guardado.\n",
    "> - ***`p3y***: Hay una ganancia/pérdida acumulada del 20% en los últimos 3 años desde hasta día guardado.\n",
    "> - ***`p1y***: Hay una ganancia/pérdida acumulada del 20% en los últimos 1 año desde hasta día guardado.\n",
    "> - ***`p6m***: Hay una ganancia/pérdida acumulada del 20% en los últimos 6 meses desde hasta día guardado.\n",
    "> - ***`p3m***: Hay una ganancia/pérdida acumulada del 20% en los últimos 3 meses desde hasta día guardado.\n",
    "\n",
    "Para ello creamos un diccionario que servirá para mapear el simbolo que guardar en el tabla. Además las columnas se usarán para el filtrado y pasarse en el iterador en la variable *values_perf*."
   ]
  },
  {
   "cell_type": "code",
   "execution_count": null,
   "id": "60a99bb8-d5cf-4497-939c-48d708dbbe34",
   "metadata": {},
   "outputs": [],
   "source": [
    "elMap: `performance_5y`performance_3y`performance_1y`performance_6m`performance_3m\n",
    "        ! (`p5y; `p3y; `p1y; `p6m; `p3m);\n",
    "values_perf: cols elMap;\n",
    "type elMap"
   ]
  },
  {
   "cell_type": "code",
   "execution_count": null,
   "id": "e5166a2d-a4ca-4237-86ca-c8ac6f3d975b",
   "metadata": {},
   "outputs": [],
   "source": [
    "calc_losses:{\n",
    "    t: select from historical where @[historical;x] < -0.25;\n",
    "    \n",
    "    a: select ticker:ticker,date:date,elem:(elMap x),vol5y:daily_5yvol, vol3y:daily_3yvol, vol1y:daily_1yvol,\n",
    "       vol6m:daily_6mvol, vol3m:daily_3mvol, drawdown5y: drawdown_5y,drawdown3y:drawdown_3y, drawdown1y: drawdown_1y\n",
    "        from t where @[t;x] <> 0n;\n",
    "    upsert[`table_losses;a];\n",
    " }\n",
    "\n",
    "calc_profits:{\n",
    "    t: select from historical where @[historical;x] > 0.25;\n",
    "    a: select ticker:ticker,date:date,elem:(elMap x),vol5y:daily_5yvol, vol3y:daily_3yvol, vol1y:daily_1yvol,\n",
    "       vol6m:daily_6mvol, vol3m:daily_3mvol, drawdown5y: drawdown_5y,drawdown3y:drawdown_3y, drawdown1y: drawdown_1y \n",
    "      from t where @[t;x] <> 0n;\n",
    "    upsert[`table_profits;a];\n",
    " }"
   ]
  },
  {
   "cell_type": "code",
   "execution_count": null,
   "id": "458864f0-7812-4085-b83d-4a0739b311a6",
   "metadata": {},
   "outputs": [],
   "source": [
    "{calc_losses[x]} each values_perf;\n",
    "{calc_profits[x]} each values_perf;"
   ]
  },
  {
   "cell_type": "code",
   "execution_count": null,
   "id": "3d256891-2a9e-473b-a1b0-c27da2eb9473",
   "metadata": {},
   "outputs": [],
   "source": [
    "count table_losses\n",
    "count table_profits"
   ]
  },
  {
   "cell_type": "markdown",
   "id": "e712d033-6c18-4631-a0f1-b8c5aa961636",
   "metadata": {},
   "source": [
    "## Benchmark para Modelo de Inversión"
   ]
  },
  {
   "cell_type": "markdown",
   "id": "08ef7e77-3a7c-4ad1-9f60-8be506715bf2",
   "metadata": {},
   "source": [
    "Se dará una valoración a cada elemento de:\n",
    "- Tendencia del Mercado respecto a su SMA: **?%**\n",
    "- Tendencia de Valoración respecto a su mSMA: **?%**\n",
    "- Volatilidad a 1 año: **?%**\n",
    "- Volatilidad a 6 meses: **?%**\n",
    "- Volatilidad a 3 meses: **?%**\n",
    "- Correlación Inflow/Outflow con Nav_Value: **?%**\n",
    "- Distancia Temporal de su máximo + % valor actual respecto a él: **?%**\n",
    "- Distancia Temporal de su mínimo + % valor actual respecto a él: **?%**\n",
    "- Rendimiento los 5 años: **?%**\n",
    "- Rendimiento los 1 año: **?%**\n",
    "- Rendimiento los 6 meses: **?%**\n",
    "- Drawdown a 5 años: **?%**\n",
    "- Drawdown a 1 año: **?%**\n",
    "- Drawdown a 6 mesess: **?%**"
   ]
  },
  {
   "cell_type": "code",
   "execution_count": null,
   "id": "baef90b0-200e-457c-b258-95481ec41ead",
   "metadata": {},
   "outputs": [],
   "source": [
    "calc_cor_all: {\n",
    " t1: exec ticker from resume_etf;\n",
    " p1: exec nav_value by ticker from historical where in_out_flow_per <> 0N;\n",
    " io1: exec in_out_flow_per by ticker from historical where in_out_flow_per <> 0N;\n",
    " c1: {p1[x] cor io1[x]} each t1;\n",
    " flip `ticker`correAll!((t1; c1))\n",
    " }"
   ]
  },
  {
   "cell_type": "code",
   "execution_count": null,
   "id": "e00221bf-d809-4e5d-800e-4cfdc00b61b6",
   "metadata": {},
   "outputs": [],
   "source": [
    "calc_cor_all[]"
   ]
  },
  {
   "cell_type": "code",
   "execution_count": null,
   "id": "1a4ba33b-e870-4567-aeeb-fb2e980beff7",
   "metadata": {},
   "outputs": [],
   "source": [
    "calc_cor_F:{[D_FILT];\n",
    "  t: exec ticker from resume_etf;\n",
    "  p: exec nav_value by ticker from historical where in_out_flow_per <> 0N,date>D_FILT;\n",
    "  out: exec in_out_flow_per by ticker from historical where in_out_flow_per <> 0N,date > D_FILT;\n",
    "  c: { p[x] cor out[x] } each t;\n",
    "  flip `ticker`correDate!((t ; out))\n",
    " }\n",
    "calc_cor_F[2020.01.01]"
   ]
  },
  {
   "cell_type": "code",
   "execution_count": null,
   "id": "2acc87b6-bf01-4a91-a8f3-7c0a2660c5c3",
   "metadata": {},
   "outputs": [],
   "source": [
    "table:()\n",
    "table: update ticker: ticker from select ticker from resume_etf;\n",
    "t: exec ticker from table;"
   ]
  },
  {
   "cell_type": "code",
   "execution_count": null,
   "id": "bed4d3a3-830e-4142-9443-cb713e609412",
   "metadata": {},
   "outputs": [],
   "source": [
    "p: exec nav_value by ticker from historical where in_out_flow_per <> 0N;\n",
    "io: exec in_out_flow_per by ticker from historical where in_out_flow_per <> 0N;\n",
    "table: update corr_all: (table lj `ticker xkey (flip `ticker`correAll!((t; {p[x] cor io[x]} each t))))`correAll from table"
   ]
  },
  {
   "cell_type": "code",
   "execution_count": null,
   "id": "999dd99d-5769-4ba2-9c72-613d273f9fbd",
   "metadata": {},
   "outputs": [],
   "source": [
    "p: exec nav_value by ticker from historical where in_out_flow_per <> 0N,date>2019.09.01;\n",
    "io: exec in_out_flow_per by ticker from historical where in_out_flow_per <> 0N,date > 2019.09.01;\n",
    "table: update corr_5y: (table lj `ticker xkey (flip `ticker`correDate!((t; {p[x] cor io[x]} each t))))`correDate from table"
   ]
  },
  {
   "cell_type": "code",
   "execution_count": null,
   "id": "57b14629-8c12-4c51-860a-4881a45a9c78",
   "metadata": {},
   "outputs": [],
   "source": [
    "table"
   ]
  },
  {
   "cell_type": "markdown",
   "id": "066f7e8f-34f8-46b2-8615-3ef0d93966c0",
   "metadata": {},
   "source": [
    "# Extras + info futuro\n"
   ]
  },
  {
   "cell_type": "code",
   "execution_count": null,
   "id": "6a96cb2f-e36d-4946-952a-67bf63fd423b",
   "metadata": {},
   "outputs": [],
   "source": [
    "count select ticker from resume_etf where market = `$\"Developed\"\n",
    "select from historical where ticker = `EWA, m200sma <> 0N\n",
    "count select ticker from resume_etf where market = `Emerging\n",
    "\n",
    "//Filtrado  mezclando las dos tablas\n",
    "select from historical where ticker in exec ticker from resume_etf where market = `$\"Emerging\"\n",
    "//Lo mismo\n",
    "show a: select ticker from resume_etf where market = `$\"Developed\"\n",
    "select from historical where ticker in a[`ticker]\n",
    "\n",
    "select distinct equity_class from resume_etf\n",
    "select distinct region from resume_etf\n",
    "\n",
    "//maximo aumento\n",
    "select from historical where daily_retns=(max; daily_retns) fby ticker"
   ]
  },
  {
   "cell_type": "code",
   "execution_count": null,
   "id": "92db02f8-deee-4725-9c58-cbb05463f711",
   "metadata": {},
   "outputs": [],
   "source": [
    "daily_return:{ [ETFa]\n",
    "\n",
    "    plt[`:figure][(`figsize);(22;14)];\n",
    "    plt[`:plot][daily_retns_q_date[ETFa];daily_retns_q[ETFa];\"r+\"];\n",
    "    plt[`:axhline][0];\n",
    "    ax: plt[`:gca][];\n",
    "    ax[`:xaxis][`:set_major_locator][mdates[`:AutoDateLocator][]];\n",
    "    plt[`:xticks][;][;][(`rotation;45)];\n",
    "    plt[`:gcf][][`:autofmt_xdate][];  \n",
    "    title: \"DAILY RETURN - \",(string ETFa);\n",
    "    plt[`:title][title];\n",
    "    plt[`:xlabel][\"DATE\"];\n",
    "    plt[`:ylabel][\"VALUE UP/DOWN\"];\n",
    "    plt[`:legend][(\"DAILY RETURN\";\"0 LINE\")];\n",
    "    plt[`:show][];\n",
    "    plt[`:clf][];\n",
    " };\n",
    "{daily_return[x]} each etfs;"
   ]
  },
  {
   "cell_type": "code",
   "execution_count": null,
   "id": "3a247782-a344-4b2f-a81f-54de202708d1",
   "metadata": {},
   "outputs": [],
   "source": [
    "disp_vol:{ [ETFa]\n",
    "    plt[`:figure][(`figsize);(22;14)];\n",
    "    plt[`:plot][vol_x1y[ETFa];vol_y1y[ETFa];\"r-\"];\n",
    "    plt[`:plot][vol_x[ETFa];vol_y[ETFa];\"b+\"];\n",
    "    ax: plt[`:gca][];\n",
    "    ax[`:xaxis][`:set_major_locator][mdates[`:AutoDateLocator][]];\n",
    "    plt[`:xticks][;][;][(`rotation;45)];\n",
    "    plt[`:gcf][][`:autofmt_xdate][];  \n",
    "    title: \"DAILY RETURN - \",(string ETFa);\n",
    "    plt[`:title][title];\n",
    "    plt[`:xlabel][\"DATE\"];\n",
    "    plt[`:ylabel][\"VALUE UP/DOWN\"];\n",
    "    plt[`:legend][(\"DAILY\";\"0\")];\n",
    "    plt[`:show][];\n",
    "    plt[`:clf][];\n",
    " }\n",
    "{disp_vol[x]} each etfs;"
   ]
  },
  {
   "cell_type": "code",
   "execution_count": null,
   "id": "3781b708-c245-45c4-97cd-ee53d2bc7965",
   "metadata": {},
   "outputs": [],
   "source": [
    "daily_vol:{ [ETFa]\n",
    "\n",
    "    plt[`:figure][(`figsize);(22;14)];\n",
    "\n",
    "    plt[`:plot][vol_x1y[ETFa];vol_y1y[ETFa];\"r\"];\n",
    "    plt[`:plot][vol_x5y[ETFa];vol_y5y[ETFa];\"b\"];\n",
    "    plt[`:plot][ax_x[ETFa];ax_y[ETFa];\"g\"];\n",
    "\n",
    "    ax: plt[`:gca][];\n",
    "    ax[`:xaxis][`:set_major_locator][mdates[`:AutoDateLocator][]];\n",
    "    plt[`:xticks][;][;][(`rotation;45)];\n",
    "    plt[`:gcf][][`:autofmt_xdate][];  \n",
    "    title: \"DAILY RETURN - \",(string ETFa);\n",
    "    plt[`:title][title];\n",
    "    plt[`:xlabel][\"DATE\"];\n",
    "    plt[`:ylabel][\"VALUE UP/DOWN\"];\n",
    "    plt[`:legend][(\"DAILY\";\"0\")];\n",
    "    plt[`:show][];\n",
    "    plt[`:clf][];\n",
    " }\n",
    "{daily_vol[x]} each etfs;"
   ]
  }
 ],
 "metadata": {
  "kernelspec": {
   "display_name": "Q (kdb+)",
   "language": "q",
   "name": "qpk"
  },
  "language_info": {
   "file_extension": ".q",
   "mimetype": "text/x-q",
   "name": "q",
   "version": "4.1.0"
  }
 },
 "nbformat": 4,
 "nbformat_minor": 5
}
