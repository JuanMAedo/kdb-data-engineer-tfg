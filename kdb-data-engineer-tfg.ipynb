{
 "cells": [
  {
   "cell_type": "markdown",
   "id": "42bbe3ef-eb08-48d9-8539-f6d58d038897",
   "metadata": {},
   "source": [
    "Estudiaremos en el presente Notebook las cotizaciones y las distintas carácterísticas que componen los ETFs de BlackRock, conocidos como iShares.\n",
    "Todos ellos serán los cotizados en **USD-$**, para poder realizar comparativas y agrupaciones de forma más sencilla.\n",
    "\n",
    "Debido a esta condición, añadida a un mínimo de 20 años desde su salida al mercado para tener un número considerable de registros, nos encontramos ante **87 ETFs** distintos para analizar.\n"
   ]
  },
  {
   "cell_type": "markdown",
   "id": "76882986-104c-4609-92bc-e95ec59fb832",
   "metadata": {},
   "source": [
    "# Data Project"
   ]
  },
  {
   "cell_type": "markdown",
   "id": "07185495-7f63-49e6-a997-f7cca11d5468",
   "metadata": {},
   "source": [
    "## Dataset\n",
    "\n",
    "Nos quedará un Dataset compuesto por el histórico de la capitalización de cada ETF de iShare, que añadiremos a nuestro entorno de desarrollo en la carpeta de *pre-processed*, donde incluiremos todos los csv.\n",
    "\n",
    "Estos csv han sido generados despúes de un primer paso de darle calidad a nuestros datos a partir de un script de Python que transforma los datos de la carpeta *raw* a los csv de *pre-processed*, preparándolos para su uso en KDB+.\n",
    "\n",
    "En nuestro mismo directorio, recibiremos otro csv, donde estará la información a cargar para la tabla Resume, también generado por Python.\n",
    "\n",
    "\n",
    "  > Tabla **Historical**: Registra el histórico de cotización de los ETFs. \n",
    "  >  - ***date***: La fecha del registro del histórico.    \n",
    "  > - ***nav_value***: El valor de la participación en esa fecha.    \n",
    "  > - ***shares***: El nº de participaciones en el mercado del ETF en esa fecha.  \n",
    "  > - ***ticker***: EL ticker identificativo del ETF.\n",
    "\n",
    "  > Tabla **Resume**: Se trata de la información general del los ETFs de iShare. \n",
    "  >  - ***ticker***: El identificativo de cada ETF de iShares.    \n",
    "  > - ***inception_date***: La fecha a la que sale al mercado el ETF.    \n",
    "  > - ***net_assets***: El total de capitalización del ETF en el momento de sacar los datos.  \n",
    "  > - ***equity_class***: Muestra el tipo de activo que compone el ETF. *Large/Mid Cap - All Cap - Large Cap - Mid Cap - Small Cap*\n",
    "  > - ***region***: Muestra la región de dónde son las empresas. *Asia Pacific - North America  - Europe - Latin America - Global - Middle East and Africa*\n",
    "  > - ***market***: Muestra el tipo de mercado que tiene las empresas. *Developed - Emerging*\n",
    "\n",
    "1. Crearemos en un primer momento las tablas vacías.\n",
    "2. Importaremos desde los csv la información y la insertaremos en nuestras tablas."
   ]
  },
  {
   "cell_type": "code",
   "execution_count": null,
   "id": "5b824198-aad5-4cf2-b17d-c619b8af17ef",
   "metadata": {},
   "outputs": [],
   "source": [
    "meta historical:([]date:`date$();nav_value:`float$();shares:`long$();ticker:`$())\n",
    "meta resume_etf:([ticker:`$()]inception_date:`date$();net_assets:`float$();equity_class:`$();region:`$();market:`$())\n",
    "\n",
    "//@[`historical;`ticker;`g#];"
   ]
  },
  {
   "cell_type": "markdown",
   "id": "1d6adfc4-6670-4c65-843a-15dfcea87ec9",
   "metadata": {},
   "source": [
    "## Data Processing - Filter and Quality\n",
    "Nuestros datos están disponibles en la carpeta *Data*, pero se presentan en un formato de Excel y con información poco valiosa y muy dispersa para el estudio. Por tanto consideramos que se encuentran en un proceso raw en nuestro proyecto de Ingeniería de Datos.\n",
    "\n",
    "Por ello contamos con 2 scripts a realizar, donde filtraremos, renombraremos y daremos calidad a los datos, para posteriormente poder estudiarlos de mejor manera.\n",
    "\n",
    "Pero antes de ello realizaremos la instalación de las librerías correspondientes, actualizadas en el *requirements.txt*:"
   ]
  },
  {
   "cell_type": "code",
   "execution_count": null,
   "id": "376bf4e8-f75a-46a5-a4ef-41cbb156eba7",
   "metadata": {},
   "outputs": [],
   "source": [
    "system \"pip install -r requirements.txt\""
   ]
  },
  {
   "cell_type": "code",
   "execution_count": null,
   "id": "e8df53a2-3268-4725-be93-06bab1dcf893",
   "metadata": {},
   "outputs": [],
   "source": [
    "system \"python3 Data/script_etf_a_csv.py Data/raw-excels/ Data/iShares-UnitedStates2.xlsx\"\n",
    "system \"python3 Data/script_resume_etf.py Data/iShares-UnitedStates2.xlsx\""
   ]
  },
  {
   "cell_type": "markdown",
   "id": "66e659e5-0d26-4f82-903e-292e77a318f5",
   "metadata": {},
   "source": [
    "## Data Ingest"
   ]
  },
  {
   "cell_type": "markdown",
   "id": "d1644035-024a-4f9a-a426-e3be6b9c9323",
   "metadata": {},
   "source": [
    "Procedemos a importar los archivos de los ETFs que se encuentran en la ruta : *Data/pre-processed/etf/* y los cargaremos  para poder operar con ellos."
   ]
  },
  {
   "cell_type": "code",
   "execution_count": null,
   "id": "8a451282-52ca-4adf-b63b-7824c59df73b",
   "metadata": {},
   "outputs": [],
   "source": [
    "csv_files: system \"ls Data/pre-processed/etf/*.csv\";"
   ]
  },
  {
   "cell_type": "markdown",
   "id": "b8dc4646-a77c-4e60-9f30-a8ef8a26c8d1",
   "metadata": {},
   "source": [
    "Insertamos en nuestra tabla **'historical'**  usando un iterador y las características de programación funcional y su compilación de derecha a izquierda que nos aporta el lenguaje.\n",
    "\n",
    "Importamos los datos del csv, actualizamos la columna ticker con el nombre que queremos y realizamos un upsert sobre la tabla."
   ]
  },
  {
   "cell_type": "code",
   "execution_count": null,
   "id": "a56fd79c-32bc-454f-8db4-984da6d623cf",
   "metadata": {},
   "outputs": [],
   "source": [
    "//Ingesta de HISTORICAL\n",
    "{ ticker_name: ssr[ssr[; \"Data/pre-processed/etf/\"; \"\"] x; \".csv\"; \"\"]; \n",
    "    `historical upsert update ticker:`$ticker_name from (\"DFJ\"; enlist csv) 0: `$x;\n",
    " } each csv_files;\n",
    "//Ingesta de RESUME\n",
    "`resume_etf insert (\"SDFSSS\"; enlist csv) 0: `$\"Data/pre-processed/resume.csv\";"
   ]
  },
  {
   "cell_type": "code",
   "execution_count": null,
   "id": "a2b96e57-e813-4772-a498-8e51ce657426",
   "metadata": {},
   "outputs": [],
   "source": [
    "show historical\n",
    "show resume_etf"
   ]
  },
  {
   "cell_type": "markdown",
   "id": "2d7002e0-dfa0-4262-8392-d9b31d88bab5",
   "metadata": {},
   "source": [
    "# New Data and Metadata\n",
    "\n",
    "Procederemos a crear columnas en nuestras tablas con intención de recopilar información sobre el histórico y poder analizar posteriormente con mayor información y datos."
   ]
  },
  {
   "cell_type": "markdown",
   "id": "c25d08a5-5085-4ea3-a5ee-12b9ff4a0f76",
   "metadata": {},
   "source": [
    "## Daily Returns:\n",
    " Añadiremos la diferencia de precios diaria en la tabla de *Historical* para poder calcular la volatilidad total "
   ]
  },
  {
   "cell_type": "code",
   "execution_count": null,
   "id": "aca5f17e-2860-4db5-9325-c5b9281b5321",
   "metadata": {},
   "outputs": [],
   "source": [
    "historical: `ticker`date xasc historical;\n",
    "historical: update daily_retns: (nav_value-prev nav_value)%prev nav_value by ticker from historical\n",
    "show historical "
   ]
  },
  {
   "cell_type": "markdown",
   "id": "edbf75b4-aa4f-4e5c-938b-0b1ce9acb9bc",
   "metadata": {},
   "source": [
    "## Volatility\n",
    "Añadimos la volatilidad total por ticker a la tabla *Resume*.\n",
    "\n",
    "Tomaremos la fórmula de la Volatilidad cómo: Volatility = σ√T, donde T es el nº de periodos a estudiar.\n",
    "\n",
    "En mercados financieros los años se tratan de 252 días de mercados abiertos, por tanto:\n",
    "\n",
    " - Volatilidad Anual: 252 días\n",
    " - Volatilidad 6 meses: 126 días\n",
    " - Volatilidad 3 meses: 63 días"
   ]
  },
  {
   "cell_type": "markdown",
   "id": "eea49b38-3964-45b0-a871-452216e4776a",
   "metadata": {},
   "source": [
    "### Historical Volatility - 1 Year"
   ]
  },
  {
   "cell_type": "code",
   "execution_count": null,
   "id": "c9b03a17-169f-4548-8548-2f316612f98d",
   "metadata": {},
   "outputs": [],
   "source": [
    "year_vol: select vol1y: dev daily_retns * sqrt[252] by ticker from historical where date > max date - 251"
   ]
  },
  {
   "cell_type": "markdown",
   "id": "ddd5c5d5-9bad-4000-a693-05bf7c5617d5",
   "metadata": {},
   "source": [
    "### Historical Volatility - 6 Months"
   ]
  },
  {
   "cell_type": "code",
   "execution_count": null,
   "id": "2e953602-1080-4acb-8562-cdc9efdf7ed8",
   "metadata": {},
   "outputs": [],
   "source": [
    "sixm_vol: select  vol6m: var daily_retns * sqrt 126 by ticker from historical where date > max date - 125"
   ]
  },
  {
   "cell_type": "markdown",
   "id": "f28e0425-abfd-4cbc-8db3-2a3fcbc5acc8",
   "metadata": {},
   "source": [
    "### Historical Volatility - 3 Months"
   ]
  },
  {
   "cell_type": "code",
   "execution_count": null,
   "id": "c0c43c9a-e2ea-40dd-8347-15580d0408b2",
   "metadata": {},
   "outputs": [],
   "source": [
    "threem_vol: select vol3m: var daily_retns * sqrt 63 by ticker from historical where date > max date - 62"
   ]
  },
  {
   "cell_type": "code",
   "execution_count": null,
   "id": "cb6b7465-a81a-4772-8abc-9e85fc107ab7",
   "metadata": {},
   "outputs": [],
   "source": [
    "meta resume_etf: ((resume_etf lj `ticker xkey year_vol) lj `ticker xkey sixm_vol) lj `ticker xkey threem_vol"
   ]
  },
  {
   "cell_type": "markdown",
   "id": "1c11ed08-ff9b-47be-9e65-96c5ce6c9b0a",
   "metadata": {},
   "source": [
    "## Moving Averages\n",
    "\n",
    "Calcularemos las medias móviles de ciertos periodos:\n",
    " - 200 días\n",
    " - 200 meses\n"
   ]
  },
  {
   "cell_type": "markdown",
   "id": "6115da5e-85dd-42ea-8c2a-68807c465c57",
   "metadata": {},
   "source": [
    "### SMA 200 Days"
   ]
  },
  {
   "cell_type": "code",
   "execution_count": null,
   "id": "e0c109ab-d02c-496d-b9d2-9c3976d86b51",
   "metadata": {},
   "outputs": [],
   "source": [
    "historical: `ticker`date xdesc historical;\n",
    "historical: update d200sma:mavg[200;nav_value] by ticker from historical"
   ]
  },
  {
   "cell_type": "markdown",
   "id": "3fee27f0-9d93-4aca-8b5d-f050f9827395",
   "metadata": {},
   "source": [
    "### SMA 200 Months\n",
    "\n",
    "Usamos la ordenación descendente + first en el fby para coger el primer dato del mes (el último al estar ordenado descendentemente)."
   ]
  },
  {
   "cell_type": "code",
   "execution_count": null,
   "id": "9c778cd8-348c-459f-8a28-5309f2633923",
   "metadata": {
    "scrolled": true
   },
   "outputs": [],
   "source": [
    "historical: `ticker`date xdesc historical\n",
    "show historical: update m200sma:mavg[200;nav_value] by ticker from historical where date = (first;date)fby `month$date"
   ]
  },
  {
   "cell_type": "code",
   "execution_count": null,
   "id": "7f7af656-8600-4fb8-8306-4d1e4be042cd",
   "metadata": {
    "scrolled": true
   },
   "outputs": [],
   "source": [
    "//Vemos los días del mes que son seleccionados para calcular la sma mensual\n",
    "select from historical where ticker = `EWA, m200sma <> 0N"
   ]
  },
  {
   "cell_type": "markdown",
   "id": "79d6a213-baa7-47d7-b99f-a38123a72010",
   "metadata": {},
   "source": [
    "## Period Performance\n",
    "Calcularemos los rendimientos del etf en los siguientes periodos, en un valor porcentual(%):\n",
    "- 5 años\n",
    "- 1 año\n",
    "- 6 meses"
   ]
  },
  {
   "cell_type": "markdown",
   "id": "0581eec6-e43e-4d15-a4f3-c46f4f86fc70",
   "metadata": {},
   "source": [
    "### Performance - 5 Years"
   ]
  },
  {
   "cell_type": "code",
   "execution_count": null,
   "id": "8367f686-9435-4432-bc51-a276b49887ad",
   "metadata": {},
   "outputs": [],
   "source": [
    "perf_5y: select perf_5y: 100*(first nav_value - last nav_value)%last nav_value by ticker \n",
    "    from select from historical where (date=max date) or (date=max date-5*365)"
   ]
  },
  {
   "cell_type": "markdown",
   "id": "86c0b377-448d-4e52-b87b-df56db75cac4",
   "metadata": {},
   "source": [
    "### Performance - 3 Years"
   ]
  },
  {
   "cell_type": "code",
   "execution_count": null,
   "id": "2ce71971-8038-4274-8c42-48b1d8e763fe",
   "metadata": {},
   "outputs": [],
   "source": [
    "perf_3y: select perf_3y: 100*(first nav_value - last nav_value)%last nav_value by ticker \n",
    "    from select from historical where (date = max date) or (date = max date- 3*365 - 1)"
   ]
  },
  {
   "cell_type": "markdown",
   "id": "7edaef62-2ff4-4ac5-a8c8-9854b8d9f169",
   "metadata": {},
   "source": [
    "### Performance - 1 Year"
   ]
  },
  {
   "cell_type": "code",
   "execution_count": null,
   "id": "ea3d814d-40a4-4e83-af17-3c1f5c4a6626",
   "metadata": {},
   "outputs": [],
   "source": [
    "perf_1y: select perf_1y: 100*(first nav_value - last nav_value)%last nav_value by ticker \n",
    "    from select from historical where (date = max date) or (date = max date- 1*365)"
   ]
  },
  {
   "cell_type": "code",
   "execution_count": null,
   "id": "c9aedfec-a2b5-4446-9927-0bae161d17c0",
   "metadata": {},
   "outputs": [],
   "source": [
    "meta resume_etf: ((resume_etf lj `ticker xkey perf_5y) lj `ticker xkey perf_3y) lj `ticker xkey perf_1y"
   ]
  },
  {
   "cell_type": "markdown",
   "id": "f1907e05-04a1-41c5-90ef-9325fe5442bb",
   "metadata": {},
   "source": [
    "## Drawdowns\n",
    "\n",
    "Calcularemos:\n",
    "- 5 años\n",
    "- 3 años\n",
    "- 1 año"
   ]
  },
  {
   "cell_type": "markdown",
   "id": "b3f63b14-a687-4904-abc4-a2e9ed964f54",
   "metadata": {},
   "source": [
    "### Drawdown - 5 Years"
   ]
  },
  {
   "cell_type": "code",
   "execution_count": null,
   "id": "19813268-bb76-4ad2-af34-0559bfd3cd1a",
   "metadata": {},
   "outputs": [],
   "source": [
    "drawdown_5y: select drawdown_5y: 100*(max nav_value - min nav_value)%min nav_value by ticker \n",
    "    from select from historical where date >= max date - 5 * 365i"
   ]
  },
  {
   "cell_type": "markdown",
   "id": "9d2f9a35-ab7b-46b4-bda7-2a7e79361d88",
   "metadata": {},
   "source": [
    "### Drawdown - 3 Years"
   ]
  },
  {
   "cell_type": "code",
   "execution_count": null,
   "id": "7e0c3c5d-e688-4a45-b492-7506c29b3f7c",
   "metadata": {},
   "outputs": [],
   "source": [
    "//Problema - no consigo filtrar los históricos por ticker con distintas fecha --> reestudiarlo"
   ]
  },
  {
   "cell_type": "code",
   "execution_count": null,
   "id": "09cf4c6b-29f4-4c31-99d9-685633ab6445",
   "metadata": {
    "scrolled": true
   },
   "outputs": [],
   "source": [
    "//Idea inicial sin contar que el min tiene que ser posterior al max\n",
    "show drawdown_3y: select drawdown_3y: 100*(max nav_value - min_nav_value)%min_nav_value by ticker \n",
    "    from select from historical where date >= max date - 3 * 365i"
   ]
  },
  {
   "cell_type": "code",
   "execution_count": null,
   "id": "0dedc92a-c054-45c5-ba5b-103fe4fc2560",
   "metadata": {},
   "outputs": [],
   "source": [
    "//Intentos de calcular las fechas de los max y a partir de ahi filtrar para poder coger los min posteriores \n",
    "show max_nav_value: select date by ticker from historical where date >= max date - 3 * 365i, nav_value = (max;nav_value) fby ticker"
   ]
  },
  {
   "cell_type": "code",
   "execution_count": null,
   "id": "4cf1fb80-d7bc-4420-888e-3c5874e60cc7",
   "metadata": {},
   "outputs": [],
   "source": [
    "show min_nav_value_postmax: select from historical where date > (select date from max_nav_value)"
   ]
  },
  {
   "cell_type": "markdown",
   "id": "ec76a095-11c8-4d7f-b96e-88489740041a",
   "metadata": {},
   "source": [
    "### Drawdown - 1 Year"
   ]
  },
  {
   "cell_type": "code",
   "execution_count": null,
   "id": "dd465346-5a83-489c-ad40-b9ad47ea03dc",
   "metadata": {},
   "outputs": [
    {
     "ename": "\u001b[0;31mhistorical\u001b[0m",
     "evalue": "\u001b[0;31mhistorical\u001b[0m",
     "output_type": "error",
     "traceback": [
      "\u001b[0;31mevaluation error:\n\u001b[0m",
      "\u001b[0;31mhistorical\u001b[0m",
      "\u001b[0;31m\u001b[0m",
      "\u001b[0;31m  [0]  drawdown_1y: select drawdown_1y: 100*(max nav_value - min nav_value)%min nav_value by ticker \n    from select from historical where date >= max date - 1 * 365i\n                     ^\n\u001b[0m"
     ]
    }
   ],
   "source": [
    "drawdown_1y: select drawdown_1y: 100*(max nav_value - min nav_value)%min nav_value by ticker \n",
    "    from select from historical where date >= max date - 1 * 365i\n"
   ]
  },
  {
   "cell_type": "code",
   "execution_count": null,
   "id": "2341902d-7554-4cf1-b352-e5fb52ca2d01",
   "metadata": {},
   "outputs": [],
   "source": [
    "meta resume_etf: ((resume_etf lj `ticker xkey drawdown_5y)lj `ticker xkey drawdown_3y) lj `ticker xkey drawdown_1y"
   ]
  },
  {
   "cell_type": "markdown",
   "id": "391ae2a4-ee8f-47e6-8125-3fd75154be85",
   "metadata": {},
   "source": [
    "## Inflows\n",
    "\n",
    "Calculamos las entradas de dinero en el etf, con la ampliación/salida de dinero en el mercado del etf por la variación mensual de las participaciones en circulación."
   ]
  },
  {
   "cell_type": "code",
   "execution_count": null,
   "id": "b2ab5b1f-4ea4-4ab0-a40f-126bd2caa1e1",
   "metadata": {},
   "outputs": [],
   "source": [
    "historical: `ticker`date xasc historical"
   ]
  },
  {
   "cell_type": "code",
   "execution_count": null,
   "id": "bb9f990a-79e6-4eeb-874a-239e62efb861",
   "metadata": {},
   "outputs": [],
   "source": [
    "historical: update minflow: 100*(shares - prev shares)% prev shares by ticker from historical where date = (last;date)fby `month$date"
   ]
  },
  {
   "cell_type": "markdown",
   "id": "1561164f-03da-4ab4-b551-72a6fe467f14",
   "metadata": {},
   "source": [
    "# ETF CONDITIONS\n",
    "\n",
    "La idea es analizar los datos recopilados y poder acotar bajo que *parámetros/características* nuestros etf se comportan de cierto modo. De esta manera, podremos hacer predicciones con mayores garantías."
   ]
  },
  {
   "cell_type": "code",
   "execution_count": null,
   "id": "df49828c-e132-4a4b-ab30-7e07b8ca62f6",
   "metadata": {},
   "outputs": [],
   "source": [
    "// A realizar"
   ]
  },
  {
   "cell_type": "markdown",
   "id": "5816f41c-88f3-45ec-a970-94a688d01bb6",
   "metadata": {},
   "source": [
    "# Extras + info futuro\n"
   ]
  },
  {
   "cell_type": "code",
   "execution_count": null,
   "id": "1083619e-d8e7-4135-8245-4fc4ebdb002d",
   "metadata": {},
   "outputs": [],
   "source": [
    "count select ticker from resume_etf where market = `$\"Developed\"\n",
    "select from historical where ticker = `EWA, m200sma <> 0N\n",
    "count select ticker from resume_etf where market = `Emerging"
   ]
  },
  {
   "cell_type": "code",
   "execution_count": null,
   "id": "5a4d2f9b-22b9-4f99-b8d7-c88524b8f52c",
   "metadata": {},
   "outputs": [],
   "source": [
    "//Filtrado  mezclando las dos tablas\n",
    "select from historical where ticker in exec ticker from resume_etf where market = `$\"Emerging\"\n",
    "//Lo mismo\n",
    "show a: select ticker from resume_etf where market = `$\"Developed\"\n",
    "select from historical where ticker in a[`ticker]"
   ]
  },
  {
   "cell_type": "code",
   "execution_count": null,
   "id": "c0ba104d-2215-468c-a467-31ca8a487c6a",
   "metadata": {},
   "outputs": [],
   "source": [
    "//\n",
    "ES UN EJEMPLO DE COMO FUNCIONAN LAS VISTAS EN KDB+/Q --> CREAR FUNCIONES !!\n",
    "\n",
    "tabla: ([] ticker: (\"AAPL\";\"GOOGL\";\"MSFT\"); price: (100;200;150))\n",
    "\n",
    "// Definir función vista\n",
    "vista_filtrada: {[tabla] select from tabla where price > 150}\n",
    "\n",
    "// Llamar a la función vista\n",
    "vista_filtrada tabla\n",
    "\n",
    "//\n",
    "//\n",
    "// Calcular la volatilidad para cada símbolo en la tabla historical\n",
    "historical_volatility:select vol: sqrt var daily_retns by ticker from historical\n",
    "resume_etf: historical_volatility lj `ticker xkey resume_etf\n",
    "//"
   ]
  },
  {
   "cell_type": "code",
   "execution_count": null,
   "id": "8d64ff98-1ef7-4c89-aa7e-909f1d644edf",
   "metadata": {
    "scrolled": true,
    "tags": []
   },
   "outputs": [],
   "source": [
    "select distinct equity_class from resume_etf\n",
    "select distinct region from resume_etf"
   ]
  },
  {
   "cell_type": "code",
   "execution_count": null,
   "id": "b2e14c10-7563-4e8f-8101-340a5e7cb4c5",
   "metadata": {},
   "outputs": [],
   "source": [
    "//maximo aumento\n",
    "select from historical where daily_retns=(max; daily_retns) fby ticker"
   ]
  }
 ],
 "metadata": {
  "kernelspec": {
   "display_name": "Q (kdb+)",
   "language": "q",
   "name": "kdb_kernel"
  },
  "language_info": {
   "file_extension": ".q",
   "mimetype": "text/x-q",
   "name": "q",
   "version": "4.1.0"
  }
 },
 "nbformat": 4,
 "nbformat_minor": 5
}
